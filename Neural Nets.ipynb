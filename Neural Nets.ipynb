{
 "cells": [
  {
   "cell_type": "markdown",
   "metadata": {
    "collapsed": true
   },
   "source": [
    "# Neural Networks using TensorFlow"
   ]
  },
  {
   "cell_type": "code",
   "execution_count": 16,
   "metadata": {
    "collapsed": false
   },
   "outputs": [
    {
     "name": "stdout",
     "output_type": "stream",
     "text": [
      "The autoreload extension is already loaded. To reload it, use:\n",
      "  %reload_ext autoreload\n"
     ]
    }
   ],
   "source": [
    "%load_ext autoreload\n",
    "%autoreload 2"
   ]
  },
  {
   "cell_type": "code",
   "execution_count": 27,
   "metadata": {
    "collapsed": false
   },
   "outputs": [],
   "source": [
    "import src.mnist\n",
    "import src.const"
   ]
  },
  {
   "cell_type": "code",
   "execution_count": 18,
   "metadata": {
    "collapsed": true
   },
   "outputs": [],
   "source": [
    "import matplotlib.pyplot as plt\n",
    "import numpy as np\n",
    "import tensorflow as tf\n",
    "%matplotlib inline"
   ]
  },
  {
   "cell_type": "code",
   "execution_count": 37,
   "metadata": {
    "collapsed": false,
    "scrolled": true
   },
   "outputs": [
    {
     "name": "stdout",
     "output_type": "stream",
     "text": [
      "dtype: <class 'numpy.float64'>\n",
      "dtype: <class 'numpy.float64'>\n"
     ]
    }
   ],
   "source": [
    "train_set, test_set = src.mnist.get_mnist_full(validation=False)"
   ]
  },
  {
   "cell_type": "code",
   "execution_count": 38,
   "metadata": {
    "collapsed": false
   },
   "outputs": [],
   "source": [
    "def reformat(dataset):\n",
    "    labels = (np.arange(10) == dataset.labels[:,None]).astype(np.float64)\n",
    "    return src.const.set_mnist(dataset, 'labels', labels)\n",
    "\n",
    "train_set = reformat(train_set)\n",
    "test_set = reformat(test_set)"
   ]
  },
  {
   "cell_type": "code",
   "execution_count": 25,
   "metadata": {
    "collapsed": false
   },
   "outputs": [],
   "source": [
    "learning_rate = 0.001\n",
    "training_epochs = 30\n",
    "batch_size = 100\n",
    "display_step = 1\n",
    "\n",
    "n_hidden_1 = 1024\n",
    "n_hidden_2 = 512\n",
    "n_hidden_3 = 256\n",
    "n_hidden_4 = 128\n",
    "n_input = 784\n",
    "n_classes = 10\n",
    "\n",
    "graph = tf.Graph()\n",
    "with graph.as_default():\n",
    "    \n",
    "    x = tf.placeholder(\"float\", [None, n_input])\n",
    "    y = tf.placeholder(\"float\", [None, n_classes])\n",
    "    global_step = tf.Variable(0)\n",
    "\n",
    "    def multilayer_perceptron(x, weights, biases):\n",
    "\n",
    "        layer_1 = tf.add(tf.matmul(x, weights['h1']), biases['b1'])\n",
    "        layer_1 = tf.nn.relu(layer_1)\n",
    "\n",
    "        layer_2 = tf.add(tf.matmul(layer_1, weights['h2']), biases['b2'])\n",
    "        layer_2 = tf.nn.relu(layer_2)\n",
    "        \n",
    "        layer_3 = tf.add(tf.matmul(layer_2, weights['h3']), biases['b3'])\n",
    "        layer_3 = tf.nn.relu(layer_3)\n",
    "\n",
    "        layer_4 = tf.add(tf.matmul(layer_3, weights['h4']), biases['b4'])\n",
    "        layer_4 = tf.nn.relu(layer_4)\n",
    "        \n",
    "        out_layer = tf.matmul(layer_4, weights['out']) + biases['out']\n",
    "        return out_layer\n",
    "\n",
    "    weights = {\n",
    "        'h1': tf.Variable(tf.random_normal([n_input, n_hidden_1])),\n",
    "        'h2': tf.Variable(tf.random_normal([n_hidden_1, n_hidden_2])),\n",
    "        'h3': tf.Variable(tf.random_normal([n_hidden_2, n_hidden_3])),\n",
    "        'h4': tf.Variable(tf.random_normal([n_hidden_3, n_hidden_4])),\n",
    "        'out': tf.Variable(tf.random_normal([n_hidden_4, n_classes]))\n",
    "    }\n",
    "\n",
    "    biases = {\n",
    "        'b1': tf.Variable(tf.random_normal([n_hidden_1])),\n",
    "        'b2': tf.Variable(tf.random_normal([n_hidden_2])),\n",
    "        'b3': tf.Variable(tf.random_normal([n_hidden_3])),\n",
    "        'b4': tf.Variable(tf.random_normal([n_hidden_4])),\n",
    "        'out': tf.Variable(tf.random_normal([n_classes]))\n",
    "    }\n",
    "\n",
    "    pred = multilayer_perceptron(x, weights, biases)\n",
    "\n",
    "    cost = tf.reduce_mean(tf.nn.softmax_cross_entropy_with_logits(logits=pred, labels=y))\n",
    "    \n",
    "    exp_lr = tf.train.exponential_decay(learning_rate, global_step, 1000, 0.90, staircase=True)\n",
    "    optimizer = tf.train.AdamOptimizer(exp_lr).minimize(cost, global_step=global_step)\n"
   ]
  },
  {
   "cell_type": "code",
   "execution_count": 39,
   "metadata": {
    "collapsed": false
   },
   "outputs": [
    {
     "name": "stdout",
     "output_type": "stream",
     "text": [
      "Initialized\n",
      "Epoch: 0001 cost= 5317722.406547851\n",
      "Epoch: 0002 cost= 938564.356705729\n",
      "Epoch: 0003 cost= 482634.179828695\n",
      "Epoch: 0004 cost= 269126.894649455\n",
      "Epoch: 0005 cost= 161492.367887471\n",
      "Epoch: 0006 cost= 101838.613998718\n",
      "Epoch: 0007 cost= 64983.281977742\n",
      "Epoch: 0008 cost= 45125.435084254\n",
      "Epoch: 0009 cost= 36969.837975388\n",
      "Epoch: 0010 cost= 30374.841157583\n",
      "Epoch: 0011 cost= 22548.229545403\n",
      "Epoch: 0012 cost= 18064.333616333\n",
      "Epoch: 0013 cost= 13628.150514743\n",
      "Epoch: 0014 cost= 14108.167677538\n",
      "Epoch: 0015 cost= 10509.112812581\n",
      "Epoch: 0016 cost= 8503.398343970\n",
      "Epoch: 0017 cost= 9120.725404053\n",
      "Epoch: 0018 cost= 6726.712616043\n",
      "Epoch: 0019 cost= 5394.512922770\n",
      "Epoch: 0020 cost= 4163.577182148\n",
      "Epoch: 0021 cost= 3769.025327199\n",
      "Epoch: 0022 cost= 2398.687618027\n",
      "Epoch: 0023 cost= 2296.365816288\n",
      "Epoch: 0024 cost= 2713.713639374\n",
      "Epoch: 0025 cost= 1810.510803935\n",
      "Epoch: 0026 cost= 2437.068922908\n",
      "Epoch: 0027 cost= 926.899783827\n",
      "Epoch: 0028 cost= 1370.730035960\n",
      "Epoch: 0029 cost= 1330.727856849\n",
      "Epoch: 0030 cost= 944.868306478\n",
      "Epoch: 0031 cost= 710.650979004\n",
      "Epoch: 0032 cost= 555.897731120\n",
      "Epoch: 0033 cost= 388.501749776\n",
      "Epoch: 0034 cost= 548.923983205\n",
      "Epoch: 0035 cost= 486.927504679\n",
      "Epoch: 0036 cost= 697.237169189\n",
      "Epoch: 0037 cost= 274.644334462\n",
      "Epoch: 0038 cost= 240.751832072\n",
      "Epoch: 0039 cost= 93.960135295\n",
      "Epoch: 0040 cost= 84.415035604\n",
      "Epoch: 0041 cost= 60.937032496\n",
      "Epoch: 0042 cost= 131.876734009\n",
      "Epoch: 0043 cost= 105.036466592\n",
      "Epoch: 0044 cost= 66.562191213\n",
      "Epoch: 0045 cost= 164.348168182\n",
      "Epoch: 0046 cost= 195.730952555\n",
      "Epoch: 0047 cost= 33.302982585\n",
      "Epoch: 0048 cost= 0.000000000\n",
      "Epoch: 0049 cost= 0.000000000\n",
      "Optimization Finished!\n",
      "Accuracy: 0.9584\n"
     ]
    }
   ],
   "source": [
    "def run_session(num_steps=1001):\n",
    "    with tf.Session(graph=graph) as sess:\n",
    "        tf.initialize_all_variables().run()\n",
    "\n",
    "        print(\"Initialized\")\n",
    "        prev, curr = -1, 0\n",
    "        epoch = 0\n",
    "\n",
    "        while abs(curr - prev) > 0.1:\n",
    "            prev = curr\n",
    "\n",
    "            avg_cost = 0.\n",
    "            total_batch = int(train_set.N / batch_size)\n",
    "\n",
    "            for i in range(total_batch):\n",
    "                batch_x, batch_y = train_set.next_batch(batch_size)\n",
    "                _, c = sess.run([optimizer, cost], feed_dict={x: batch_x, y: batch_y})\n",
    "                avg_cost += c / total_batch\n",
    "\n",
    "            if epoch % display_step == 0:\n",
    "                print(\"Epoch:\", '%04d' % (epoch + 1), \"cost=\", \"{:.9f}\".format(avg_cost))\n",
    "            \n",
    "            epoch += 1\n",
    "\n",
    "            curr = avg_cost\n",
    "        print(\"Optimization Finished!\")\n",
    "\n",
    "        correct_prediction = tf.equal(tf.argmax(pred, 1), tf.argmax(y, 1))\n",
    "        accuracy = tf.reduce_mean(tf.cast(correct_prediction, \"float\"))\n",
    "        print(\"Accuracy:\", accuracy.eval({x: test_set.images, y: test_set.labels}))\n",
    "\n",
    "run_session()"
   ]
  },
  {
   "cell_type": "code",
   "execution_count": null,
   "metadata": {
    "collapsed": false
   },
   "outputs": [],
   "source": []
  }
 ],
 "metadata": {
  "kernelspec": {
   "display_name": "Python 3",
   "language": "python",
   "name": "python3"
  },
  "language_info": {
   "codemirror_mode": {
    "name": "ipython",
    "version": 3
   },
   "file_extension": ".py",
   "mimetype": "text/x-python",
   "name": "python",
   "nbconvert_exporter": "python",
   "pygments_lexer": "ipython3",
   "version": "3.5.2"
  }
 },
 "nbformat": 4,
 "nbformat_minor": 2
}
