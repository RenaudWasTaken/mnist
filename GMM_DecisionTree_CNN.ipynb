{
 "cells": [
  {
   "cell_type": "code",
   "execution_count": 1,
   "metadata": {
    "collapsed": false
   },
   "outputs": [
    {
     "name": "stdout",
     "output_type": "stream",
     "text": [
      "The autoreload extension is already loaded. To reload it, use:\n",
      "  %reload_ext autoreload\n"
     ]
    }
   ],
   "source": [
    "%load_ext autoreload"
   ]
  },
  {
   "cell_type": "code",
   "execution_count": 2,
   "metadata": {
    "collapsed": true
   },
   "outputs": [],
   "source": [
    "import src.mnist"
   ]
  },
  {
   "cell_type": "code",
   "execution_count": 3,
   "metadata": {
    "collapsed": false
   },
   "outputs": [
    {
     "name": "stdout",
     "output_type": "stream",
     "text": [
      "Extracting MNIST_data/train-images-idx3-ubyte.gz\n",
      "Extracting MNIST_data/train-labels-idx1-ubyte.gz\n",
      "Extracting MNIST_data/t10k-images-idx3-ubyte.gz\n",
      "Extracting MNIST_data/t10k-labels-idx1-ubyte.gz\n"
     ]
    }
   ],
   "source": [
    "import matplotlib.pyplot as plt\n",
    "import numpy as np\n",
    "from sklearn.decomposition import PCA\n",
    "from sklearn.mixture import GaussianMixture\n",
    "from sklearn import tree\n",
    "from sklearn.ensemble import RandomForestClassifier\n",
    "import tensorflow as tf\n",
    "from tensorflow.examples.tutorials.mnist import input_data\n",
    "mnist = input_data.read_data_sets(\"MNIST_data/\", one_hot=True)"
   ]
  },
  {
   "cell_type": "code",
   "execution_count": 4,
   "metadata": {
    "collapsed": false
   },
   "outputs": [
    {
     "name": "stdout",
     "output_type": "stream",
     "text": [
      "Extracting /tmp/data/train-images-idx3-ubyte.gz\n",
      "Extracting /tmp/data/train-labels-idx1-ubyte.gz\n",
      "Extracting /tmp/data/t10k-images-idx3-ubyte.gz\n",
      "Extracting /tmp/data/t10k-labels-idx1-ubyte.gz\n",
      "MNIST(N=55000, dataset=\"train\", labels=(55000,), images=(55000, 784), PCA=False, KMeans=False)\n",
      "Extracting /tmp/data/train-images-idx3-ubyte.gz\n",
      "Extracting /tmp/data/train-labels-idx1-ubyte.gz\n",
      "Extracting /tmp/data/t10k-images-idx3-ubyte.gz\n",
      "Extracting /tmp/data/t10k-labels-idx1-ubyte.gz\n",
      "MNIST(N=10000, dataset=\"test\", labels=(10000,), images=(10000, 784), PCA=False, KMeans=False)\n",
      "Extracting /tmp/data/train-images-idx3-ubyte.gz\n",
      "Extracting /tmp/data/train-labels-idx1-ubyte.gz\n",
      "Extracting /tmp/data/t10k-images-idx3-ubyte.gz\n",
      "Extracting /tmp/data/t10k-labels-idx1-ubyte.gz\n"
     ]
    }
   ],
   "source": [
    "train_set, test_set, validation_set = src.mnist.get_mnist_full()"
   ]
  },
  {
   "cell_type": "code",
   "execution_count": 5,
   "metadata": {
    "collapsed": false
   },
   "outputs": [
    {
     "data": {
      "text/plain": [
       "PCA(copy=True, iterated_power='auto', n_components=100, random_state=None,\n",
       "  svd_solver='auto', tol=0.0, whiten=False)"
      ]
     },
     "execution_count": 5,
     "metadata": {},
     "output_type": "execute_result"
    }
   ],
   "source": [
    "pca1 = PCA(n_components=100)\n",
    "pca1.fit(train_set.images)"
   ]
  },
  {
   "cell_type": "code",
   "execution_count": 6,
   "metadata": {
    "collapsed": false
   },
   "outputs": [],
   "source": [
    "train_images_pca1 = pca1.transform(train_set.images)\n",
    "validation_images_pca1 = pca1.transform(validation_set.images)"
   ]
  },
  {
   "cell_type": "code",
   "execution_count": 7,
   "metadata": {
    "collapsed": false
   },
   "outputs": [],
   "source": [
    "train_counter = np.bincount(train_set.labels)\n",
    "validation_counter = np.bincount(validation_set.labels)\n",
    "train_images_pca1_sorted = []\n",
    "validation_images_pca1_sorted = []\n",
    "\n",
    "for i in range(0, 10):\n",
    "    local_train_images_pca = np.zeros((train_counter[i], 100))\n",
    "    local_validation_images_pca = np.zeros((validation_counter[i], 100))\n",
    "    \n",
    "    k = 0\n",
    "    for j in range(0, train_set.images.shape[0]):\n",
    "        if train_set.labels[j] == i:\n",
    "            local_train_images_pca[k, :] = train_images_pca1[j]\n",
    "            k += 1\n",
    "    \n",
    "    train_images_pca1_sorted.append(local_train_images_pca)\n",
    "            \n",
    "    k = 0\n",
    "    for j in range(0, validation_set.images.shape[0]):\n",
    "        if validation_set.labels[j] == i:\n",
    "            local_validation_images_pca[k, :] = validation_images_pca1[j]\n",
    "            k += 1\n",
    "    \n",
    "    validation_images_pca1_sorted.append(local_validation_images_pca)"
   ]
  },
  {
   "cell_type": "code",
   "execution_count": 8,
   "metadata": {
    "collapsed": false
   },
   "outputs": [
    {
     "name": "stdout",
     "output_type": "stream",
     "text": [
      "Initialization 0\n",
      "  Iteration 0\t time lapse 0.60137s\t ll change inf\n",
      "  Iteration 10\t time lapse 2.49293s\t ll change 0.00593\n",
      "Initialization converged: True\t time lapse 4.12155s\t ll 20.15913\n",
      "Initialization 0\n",
      "  Iteration 0\t time lapse 0.61075s\t ll change inf\n",
      "  Iteration 10\t time lapse 2.64981s\t ll change 0.50370\n",
      "  Iteration 20\t time lapse 2.85170s\t ll change 0.08657\n",
      "  Iteration 30\t time lapse 2.98435s\t ll change 0.01230\n",
      "  Iteration 40\t time lapse 2.89259s\t ll change 0.00259\n",
      "Initialization converged: True\t time lapse 12.30935s\t ll 201.94993\n",
      "Initialization 0\n",
      "  Iteration 0\t time lapse 0.62109s\t ll change inf\n",
      "  Iteration 10\t time lapse 3.02068s\t ll change 0.02331\n",
      "Initialization converged: True\t time lapse 4.32296s\t ll 0.73876\n",
      "Initialization 0\n",
      "  Iteration 0\t time lapse 0.61034s\t ll change inf\n",
      "  Iteration 10\t time lapse 3.12268s\t ll change 0.04685\n",
      "  Iteration 20\t time lapse 3.08938s\t ll change 0.01568\n",
      "Initialization converged: True\t time lapse 8.79092s\t ll 5.57305\n",
      "Initialization 0\n",
      "  Iteration 0\t time lapse 0.60330s\t ll change inf\n",
      "  Iteration 10\t time lapse 2.83560s\t ll change 0.01256\n",
      "Initialization converged: True\t time lapse 6.06228s\t ll 25.67835\n",
      "Initialization 0\n",
      "  Iteration 0\t time lapse 0.58698s\t ll change inf\n",
      "  Iteration 10\t time lapse 2.84366s\t ll change 0.03426\n",
      "Initialization converged: True\t time lapse 4.87067s\t ll 15.39894\n",
      "Initialization 0\n",
      "  Iteration 0\t time lapse 0.63255s\t ll change inf\n",
      "  Iteration 10\t time lapse 3.03808s\t ll change 0.07553\n",
      "  Iteration 20\t time lapse 3.10183s\t ll change 0.01208\n",
      "Initialization converged: True\t time lapse 9.02292s\t ll 52.60216\n",
      "Initialization 0\n",
      "  Iteration 0\t time lapse 0.68987s\t ll change inf\n",
      "  Iteration 10\t time lapse 3.23755s\t ll change 0.27503\n",
      "  Iteration 20\t time lapse 3.21891s\t ll change 0.07059\n",
      "  Iteration 30\t time lapse 3.24144s\t ll change 0.12137\n",
      "  Iteration 40\t time lapse 3.45499s\t ll change 0.00971\n",
      "Initialization converged: True\t time lapse 16.63522s\t ll 64.07268\n",
      "Initialization 0\n",
      "  Iteration 0\t time lapse 0.65586s\t ll change inf\n",
      "  Iteration 10\t time lapse 3.21476s\t ll change 0.04899\n",
      "  Iteration 20\t time lapse 3.13257s\t ll change 0.04531\n",
      "Initialization converged: True\t time lapse 7.93961s\t ll 6.12144\n",
      "Initialization 0\n",
      "  Iteration 0\t time lapse 0.66623s\t ll change inf\n",
      "  Iteration 10\t time lapse 3.09930s\t ll change 0.37133\n",
      "  Iteration 20\t time lapse 3.02473s\t ll change 0.16314\n",
      "  Iteration 30\t time lapse 3.12591s\t ll change 0.02436\n",
      "  Iteration 40\t time lapse 3.02165s\t ll change 0.00254\n",
      "  Iteration 50\t time lapse 3.09193s\t ll change 0.00361\n",
      "  Iteration 60\t time lapse 3.12123s\t ll change 0.00773\n",
      "  Iteration 70\t time lapse 3.54547s\t ll change 0.00784\n",
      "Initialization converged: True\t time lapse 25.30428s\t ll 60.36446\n"
     ]
    }
   ],
   "source": [
    "gaussian_mixtures = []\n",
    "for i in range(0, 10):\n",
    "    gaussian_mixture = GaussianMixture(n_components=20, verbose=2)\n",
    "    gaussian_mixture.fit(train_images_pca1_sorted[i])\n",
    "    gaussian_mixtures.append(gaussian_mixture)"
   ]
  },
  {
   "cell_type": "code",
   "execution_count": 9,
   "metadata": {
    "collapsed": true
   },
   "outputs": [],
   "source": [
    "train_scores = []\n",
    "for i in range(0, 10):\n",
    "    train_scores.append(gaussian_mixtures[i].score_samples(train_images_pca1))"
   ]
  },
  {
   "cell_type": "code",
   "execution_count": 10,
   "metadata": {
    "collapsed": true
   },
   "outputs": [],
   "source": [
    "validation_scores = []\n",
    "for i in range(0, 10):\n",
    "    validation_scores.append(gaussian_mixtures[i].score_samples(validation_images_pca1))"
   ]
  },
  {
   "cell_type": "code",
   "execution_count": 11,
   "metadata": {
    "collapsed": false
   },
   "outputs": [],
   "source": [
    "train_labels_predictions_log_probas = []\n",
    "for i in range(0, train_images_pca1.shape[0]):\n",
    "    scores = []\n",
    "    for j in range(0, 10):\n",
    "        scores.append(train_scores[j][i])\n",
    "    predicted_class = scores.index(max(scores))\n",
    "    train_labels_predictions_log_probas.append([train_set.labels[i], predicted_class, max(scores)])"
   ]
  },
  {
   "cell_type": "code",
   "execution_count": 12,
   "metadata": {
    "collapsed": true
   },
   "outputs": [],
   "source": [
    "validation_labels_predictions_log_probas = []\n",
    "for i in range(0, validation_images_pca1.shape[0]):\n",
    "    scores = []\n",
    "    for j in range(0, 10):\n",
    "        scores.append(validation_scores[j][i])\n",
    "    predicted_class = scores.index(max(scores))\n",
    "    validation_labels_predictions_log_probas.append([validation_set.labels[i], predicted_class, max(scores)])"
   ]
  },
  {
   "cell_type": "code",
   "execution_count": 13,
   "metadata": {
    "collapsed": false
   },
   "outputs": [],
   "source": [
    "train_false_positive_scores = []\n",
    "train_true_positive_scores = []\n",
    "for label, prediction, log_proba in train_labels_predictions_log_probas:\n",
    "    if label != prediction:\n",
    "        train_false_positive_scores.append(log_proba)\n",
    "    else:\n",
    "        train_true_positive_scores.append(log_proba)\n",
    "train_false_positive_scores = sorted(train_false_positive_scores)\n",
    "train_true_positive_scores = sorted(train_true_positive_scores)"
   ]
  },
  {
   "cell_type": "code",
   "execution_count": 14,
   "metadata": {
    "collapsed": true
   },
   "outputs": [],
   "source": [
    "validation_false_positive_scores = []\n",
    "validation_true_positive_scores = []\n",
    "for label, prediction, log_proba in validation_labels_predictions_log_probas:\n",
    "    if label != prediction:\n",
    "        validation_false_positive_scores.append(log_proba)\n",
    "    else:\n",
    "        validation_true_positive_scores.append(log_proba)\n",
    "validation_false_positive_scores = sorted(validation_false_positive_scores)\n",
    "validation_true_positive_scores = sorted(validation_true_positive_scores)"
   ]
  },
  {
   "cell_type": "code",
   "execution_count": 15,
   "metadata": {
    "collapsed": false
   },
   "outputs": [
    {
     "name": "stdout",
     "output_type": "stream",
     "text": [
      "Populating the interactive namespace from numpy and matplotlib\n"
     ]
    },
    {
     "data": {
      "image/png": "[encoded data removed]",
      "text/plain": [
       "<matplotlib.figure.Figure at 0x7fc14d0e0240>"
      ]
     },
     "metadata": {},
     "output_type": "display_data"
    }
   ],
   "source": [
    "%pylab inline\n",
    "pylab.rcParams['figure.figsize'] = (18, 12)\n",
    "plt.hist(validation_false_positive_scores, 25, normed=1, facecolor='red', alpha=0.75)\n",
    "plt.show()"
   ]
  },
  {
   "cell_type": "code",
   "execution_count": 16,
   "metadata": {
    "collapsed": false
   },
   "outputs": [
    {
     "name": "stdout",
     "output_type": "stream",
     "text": [
      "Populating the interactive namespace from numpy and matplotlib\n"
     ]
    },
    {
     "data": {
      "image/png": "[encoded data removed]",
      "text/plain": [
       "<matplotlib.figure.Figure at 0x7fc149c43550>"
      ]
     },
     "metadata": {},
     "output_type": "display_data"
    }
   ],
   "source": [
    "%pylab inline\n",
    "pylab.rcParams['figure.figsize'] = (18, 12)\n",
    "plt.hist(validation_true_positive_scores, 50, normed=1, facecolor='red', alpha=0.75)\n",
    "plt.show()"
   ]
  },
  {
   "cell_type": "code",
   "execution_count": 17,
   "metadata": {
    "collapsed": false
   },
   "outputs": [
    {
     "name": "stdout",
     "output_type": "stream",
     "text": [
      "Populating the interactive namespace from numpy and matplotlib\n"
     ]
    },
    {
     "data": {
      "image/png": "[encoded data removed]",
      "text/plain": [
       "<matplotlib.figure.Figure at 0x7fc149b49668>"
      ]
     },
     "metadata": {},
     "output_type": "display_data"
    }
   ],
   "source": [
    "%pylab inline\n",
    "pylab.rcParams['figure.figsize'] = (18, 12)\n",
    "\n",
    "min_log_proba_threshold = -150.0\n",
    "max_log_proba_threshold = 150.0\n",
    "n_tests = 100\n",
    "\n",
    "X = []\n",
    "Y = []\n",
    "\n",
    "for i in range(0, 100):\n",
    "    test_log_proba_threshold = min_log_proba_threshold + float(i)*(float(max_log_proba_threshold - min_log_proba_threshold)/float(n_tests))\n",
    "    test_validation_false_positive_rate1 = float(sum(1 for score in validation_false_positive_scores if score >= test_log_proba_threshold)) / float(validation_set.images.shape[0])\n",
    "    X.append(test_log_proba_threshold)\n",
    "    Y.append(test_validation_false_positive_rate1)\n",
    "    \n",
    "\n",
    "plt.plot(X, Y)\n",
    "plt.show()"
   ]
  },
  {
   "cell_type": "code",
   "execution_count": 18,
   "metadata": {
    "collapsed": false
   },
   "outputs": [
    {
     "name": "stdout",
     "output_type": "stream",
     "text": [
      "Populating the interactive namespace from numpy and matplotlib\n"
     ]
    },
    {
     "data": {
      "image/png": "[encoded data removed]",
      "text/plain": [
       "<matplotlib.figure.Figure at 0x7fc14c800710>"
      ]
     },
     "metadata": {},
     "output_type": "display_data"
    }
   ],
   "source": [
    "%pylab inline\n",
    "pylab.rcParams['figure.figsize'] = (18, 12)\n",
    "\n",
    "min_log_proba_threshold = -150.0\n",
    "max_log_proba_threshold = 150.0\n",
    "n_tests = 100\n",
    "\n",
    "X = []\n",
    "Y = []\n",
    "\n",
    "for i in range(0, 100):\n",
    "    test_log_proba_threshold = min_log_proba_threshold + float(i)*(float(max_log_proba_threshold - min_log_proba_threshold)/float(n_tests))\n",
    "    n_unclassified_validation_images1 = sum(1 for label, prediction, log_proba in validation_labels_predictions_log_probas if log_proba < test_log_proba_threshold)\n",
    "    n_classified_validation_images1 = validation_set.images.shape[0] - n_unclassified_validation_images1\n",
    "    \n",
    "    n_classified_ratio = float(n_classified_validation_images1) / float(n_unclassified_validation_images1 + n_classified_validation_images1)\n",
    "    \n",
    "    X.append(test_log_proba_threshold)\n",
    "    Y.append(n_classified_ratio)\n",
    "    \n",
    "\n",
    "plt.plot(X, Y)\n",
    "plt.show()"
   ]
  },
  {
   "cell_type": "code",
   "execution_count": 19,
   "metadata": {
    "collapsed": false
   },
   "outputs": [],
   "source": [
    "log_proba_threshold = 50.0\n",
    "\n",
    "def GMM_layer(image):\n",
    "    image_pca = pca1.transform(image.reshape(1, -1))\n",
    "    scores = []\n",
    "    for i in range(0, 10):\n",
    "        scores.append(gaussian_mixtures[i].score_samples(image_pca)[0])\n",
    "    max_score = max(scores)\n",
    "    predicted_class = scores.index(max_score)\n",
    "    if max_score >= log_proba_threshold:\n",
    "        return [True, predicted_class, max_score]\n",
    "    return [False, predicted_class, max_score]"
   ]
  },
  {
   "cell_type": "code",
   "execution_count": 20,
   "metadata": {
    "collapsed": true
   },
   "outputs": [],
   "source": [
    "validation_false_positive_rate1 = float(sum(1 for score in validation_false_positive_scores if score >= log_proba_threshold)) / float(validation_set.images.shape[0])\n",
    "n_unclassified_validation_images1 = sum(1 for label, prediction, log_proba in validation_labels_predictions_log_probas if log_proba < test_log_proba_threshold)\n",
    "n_classified_validation_images1 = validation_set.images.shape[0] - n_unclassified_validation_images1\n",
    "n_classified_ratio = float(n_classified_validation_images1) / float(n_unclassified_validation_images1 + n_classified_validation_images1)"
   ]
  },
  {
   "cell_type": "code",
   "execution_count": 21,
   "metadata": {
    "collapsed": false
   },
   "outputs": [
    {
     "name": "stdout",
     "output_type": "stream",
     "text": [
      "0.0006\n"
     ]
    }
   ],
   "source": [
    "print(validation_false_positive_rate1)"
   ]
  },
  {
   "cell_type": "code",
   "execution_count": 22,
   "metadata": {
    "collapsed": false
   },
   "outputs": [
    {
     "name": "stdout",
     "output_type": "stream",
     "text": [
      "0.0746\n"
     ]
    }
   ],
   "source": [
    "print(n_classified_ratio)"
   ]
  },
  {
   "cell_type": "code",
   "execution_count": 23,
   "metadata": {
    "collapsed": false
   },
   "outputs": [],
   "source": [
    "n_unclassified_train_images1 = sum(1 for label, prediction, log_proba in train_labels_predictions_log_probas if log_proba < log_proba_threshold)\n",
    "n_classified_train_images1 = train_set.images.shape[0] - n_unclassified_train_images1\n",
    "\n",
    "n_unclassified_validation_images1 = sum(1 for label, prediction, log_proba in validation_labels_predictions_log_probas if log_proba < log_proba_threshold)\n",
    "n_classified_validation_images1 = validation_set.images.shape[0] - n_unclassified_validation_images1"
   ]
  },
  {
   "cell_type": "code",
   "execution_count": 24,
   "metadata": {
    "collapsed": false
   },
   "outputs": [
    {
     "name": "stdout",
     "output_type": "stream",
     "text": [
      "36703\n"
     ]
    }
   ],
   "source": [
    "print(n_unclassified_train_images1)"
   ]
  },
  {
   "cell_type": "code",
   "execution_count": 25,
   "metadata": {
    "collapsed": false
   },
   "outputs": [
    {
     "name": "stdout",
     "output_type": "stream",
     "text": [
      "18297\n"
     ]
    }
   ],
   "source": [
    "print(n_classified_train_images1)"
   ]
  },
  {
   "cell_type": "code",
   "execution_count": 26,
   "metadata": {
    "collapsed": false
   },
   "outputs": [
    {
     "name": "stdout",
     "output_type": "stream",
     "text": [
      "3755\n"
     ]
    }
   ],
   "source": [
    "print(n_unclassified_validation_images1)"
   ]
  },
  {
   "cell_type": "code",
   "execution_count": 27,
   "metadata": {
    "collapsed": false
   },
   "outputs": [
    {
     "name": "stdout",
     "output_type": "stream",
     "text": [
      "1245\n"
     ]
    }
   ],
   "source": [
    "print(n_classified_validation_images1)"
   ]
  },
  {
   "cell_type": "code",
   "execution_count": 28,
   "metadata": {
    "collapsed": false
   },
   "outputs": [],
   "source": [
    "unclassified_train_set_images1 = np.zeros((n_unclassified_train_images1, 784))\n",
    "unclassified_train_set_labels = []\n",
    "unclassified_train_indexes1 = []\n",
    "unclassified_train_index_map1 = []\n",
    "\n",
    "k = 0\n",
    "for i in range(0, train_set.images.shape[0]):\n",
    "    if train_labels_predictions_log_probas[i][2] < log_proba_threshold:\n",
    "        unclassified_train_set_images1[k, :] = train_set.images[i, :]\n",
    "        unclassified_train_set_labels.append(train_set.labels[i])\n",
    "        unclassified_train_indexes1.append(i)\n",
    "        unclassified_train_index_map1.append(k)\n",
    "        k += 1\n",
    "    else:\n",
    "        unclassified_train_index_map1.append(-1)\n",
    "        \n",
    "        \n",
    "unclassified_validation_set_images1 = np.zeros((n_unclassified_validation_images1, 784))\n",
    "unclassified_validation_set_labels = []\n",
    "unclassified_validation_indexes1 = []\n",
    "unclassified_validation_index_map1 = []\n",
    "\n",
    "k = 0\n",
    "for i in range(0, validation_set.images.shape[0]):\n",
    "    if validation_labels_predictions_log_probas[i][2] < log_proba_threshold:\n",
    "        unclassified_validation_set_images1[k, :] = validation_set.images[i, :]\n",
    "        unclassified_validation_set_labels.append(validation_set.labels[i])\n",
    "        unclassified_validation_indexes1.append(i)\n",
    "        unclassified_validation_index_map1.append(k)\n",
    "        k += 1\n",
    "    else:\n",
    "        unclassified_validation_index_map1.append(-1)"
   ]
  },
  {
   "cell_type": "code",
   "execution_count": 29,
   "metadata": {
    "collapsed": false
   },
   "outputs": [
    {
     "data": {
      "text/plain": [
       "PCA(copy=True, iterated_power='auto', n_components=100, random_state=None,\n",
       "  svd_solver='auto', tol=0.0, whiten=False)"
      ]
     },
     "execution_count": 29,
     "metadata": {},
     "output_type": "execute_result"
    }
   ],
   "source": [
    "pca2 = PCA(n_components=100)\n",
    "pca2.fit(unclassified_train_set_images1)"
   ]
  },
  {
   "cell_type": "code",
   "execution_count": 30,
   "metadata": {
    "collapsed": true
   },
   "outputs": [],
   "source": [
    "train_images_pca2 = pca2.transform(unclassified_train_set_images1)\n",
    "validation_images_pca2 = pca2.transform(unclassified_validation_set_images1)"
   ]
  },
  {
   "cell_type": "code",
   "execution_count": 31,
   "metadata": {
    "collapsed": false
   },
   "outputs": [],
   "source": [
    "random_forest = RandomForestClassifier(n_estimators=40)\n",
    "random_forest = random_forest.fit(train_images_pca2, unclassified_train_set_labels)"
   ]
  },
  {
   "cell_type": "code",
   "execution_count": 32,
   "metadata": {
    "collapsed": false
   },
   "outputs": [],
   "source": [
    "train_scores = random_forest.predict_proba(train_images_pca2)\n",
    "validation_scores = random_forest.predict_proba(validation_images_pca2)"
   ]
  },
  {
   "cell_type": "code",
   "execution_count": 33,
   "metadata": {
    "collapsed": false
   },
   "outputs": [],
   "source": [
    "train_labels_predictions_probas = []\n",
    "for i in range(0, train_images_pca2.shape[0]):\n",
    "    scores = []\n",
    "    for j in range(0, 10):\n",
    "        scores.append(train_scores[i][j])\n",
    "    predicted_class = scores.index(max(scores))\n",
    "    train_labels_predictions_probas.append([unclassified_train_set_labels[i], predicted_class, max(scores)])\n",
    "    \n",
    "    \n",
    "validation_labels_predictions_probas = []\n",
    "for i in range(0, validation_images_pca2.shape[0]):\n",
    "    scores = []\n",
    "    for j in range(0, 10):\n",
    "        scores.append(validation_scores[i][j])\n",
    "    predicted_class = scores.index(max(scores))\n",
    "    validation_labels_predictions_probas.append([unclassified_validation_set_labels[i], predicted_class, max(scores)])"
   ]
  },
  {
   "cell_type": "code",
   "execution_count": 34,
   "metadata": {
    "collapsed": true
   },
   "outputs": [],
   "source": [
    "train_false_positive_scores = []\n",
    "train_true_positive_scores = []\n",
    "for label, prediction, proba in train_labels_predictions_probas:\n",
    "    if label != prediction:\n",
    "        train_false_positive_scores.append(proba)\n",
    "    else:\n",
    "        train_true_positive_scores.append(proba)\n",
    "train_false_positive_scores = sorted(train_false_positive_scores)\n",
    "train_true_positive_scores = sorted(train_true_positive_scores)\n",
    "\n",
    "\n",
    "validation_false_positive_scores = []\n",
    "validation_true_positive_scores = []\n",
    "for label, prediction, proba in validation_labels_predictions_probas:\n",
    "    if label != prediction:\n",
    "        validation_false_positive_scores.append(proba)\n",
    "    else:\n",
    "        validation_true_positive_scores.append(proba)\n",
    "validation_false_positive_scores = sorted(validation_false_positive_scores)\n",
    "validation_true_positive_scores = sorted(validation_true_positive_scores)"
   ]
  },
  {
   "cell_type": "code",
   "execution_count": 35,
   "metadata": {
    "collapsed": false
   },
   "outputs": [
    {
     "name": "stdout",
     "output_type": "stream",
     "text": [
      "Populating the interactive namespace from numpy and matplotlib\n"
     ]
    },
    {
     "data": {
      "image/png": "[encoded data removed]",
      "text/plain": [
       "<matplotlib.figure.Figure at 0x7fc149afaa90>"
      ]
     },
     "metadata": {},
     "output_type": "display_data"
    }
   ],
   "source": [
    "%pylab inline\n",
    "pylab.rcParams['figure.figsize'] = (18, 12)\n",
    "plt.hist(validation_false_positive_scores, 20, normed=1, facecolor='red', alpha=0.75)\n",
    "plt.show()"
   ]
  },
  {
   "cell_type": "code",
   "execution_count": 36,
   "metadata": {
    "collapsed": false
   },
   "outputs": [
    {
     "name": "stdout",
     "output_type": "stream",
     "text": [
      "Populating the interactive namespace from numpy and matplotlib\n"
     ]
    },
    {
     "data": {
      "image/png": "[encoded data removed]",
      "text/plain": [
       "<matplotlib.figure.Figure at 0x7fc148f7a9e8>"
      ]
     },
     "metadata": {},
     "output_type": "display_data"
    }
   ],
   "source": [
    "%pylab inline\n",
    "pylab.rcParams['figure.figsize'] = (18, 12)\n",
    "plt.hist(validation_true_positive_scores, 15, normed=1, facecolor='red', alpha=0.75)\n",
    "plt.show()"
   ]
  },
  {
   "cell_type": "code",
   "execution_count": 37,
   "metadata": {
    "collapsed": false
   },
   "outputs": [
    {
     "name": "stdout",
     "output_type": "stream",
     "text": [
      "Populating the interactive namespace from numpy and matplotlib\n"
     ]
    },
    {
     "data": {
      "image/png": "[encoded data removed]",
      "text/plain": [
       "<matplotlib.figure.Figure at 0x7fc148e9a940>"
      ]
     },
     "metadata": {},
     "output_type": "display_data"
    }
   ],
   "source": [
    "%pylab inline\n",
    "pylab.rcParams['figure.figsize'] = (18, 12)\n",
    "\n",
    "min_proba_threshold = 0.0\n",
    "max_proba_threshold = 1.0\n",
    "n_tests = 100\n",
    "\n",
    "X = []\n",
    "Y = []\n",
    "\n",
    "for i in range(0, 100):\n",
    "    test_proba_threshold = min_proba_threshold + float(i)*(float(max_proba_threshold - min_proba_threshold)/float(n_tests))\n",
    "    test_validation_false_positive_rate2 = float(sum(1 for score in validation_false_positive_scores if score >= test_proba_threshold)) / float(validation_images_pca2.shape[0])\n",
    "    X.append(test_proba_threshold)\n",
    "    Y.append(test_validation_false_positive_rate2)\n",
    "    \n",
    "\n",
    "plt.plot(X, Y)\n",
    "plt.show()"
   ]
  },
  {
   "cell_type": "code",
   "execution_count": 38,
   "metadata": {
    "collapsed": false
   },
   "outputs": [
    {
     "name": "stdout",
     "output_type": "stream",
     "text": [
      "Populating the interactive namespace from numpy and matplotlib\n"
     ]
    },
    {
     "data": {
      "image/png": "[encoded data removed]",
      "text/plain": [
       "<matplotlib.figure.Figure at 0x7fc149a96ef0>"
      ]
     },
     "metadata": {},
     "output_type": "display_data"
    }
   ],
   "source": [
    "%pylab inline\n",
    "pylab.rcParams['figure.figsize'] = (18, 12)\n",
    "\n",
    "min_proba_threshold = 0.0\n",
    "max_proba_threshold = 1.0\n",
    "n_tests = 100\n",
    "\n",
    "X = []\n",
    "Y = []\n",
    "\n",
    "for i in range(0, 100):\n",
    "    test_proba_threshold = min_proba_threshold + float(i)*(float(max_proba_threshold - min_proba_threshold)/float(n_tests))\n",
    "    n_unclassified_validation_images2 = sum(1 for label, prediction, proba in validation_labels_predictions_probas if proba < test_proba_threshold)\n",
    "    n_classified_validation_images2 = validation_images_pca2.shape[0] - n_unclassified_validation_images2\n",
    "    \n",
    "    n_classified_ratio = float(n_classified_validation_images2) / float(n_unclassified_validation_images2 + n_classified_validation_images2)\n",
    "    \n",
    "    X.append(test_proba_threshold)\n",
    "    Y.append(n_classified_ratio)\n",
    "    \n",
    "\n",
    "plt.plot(X, Y)\n",
    "plt.show()"
   ]
  },
  {
   "cell_type": "code",
   "execution_count": 39,
   "metadata": {
    "collapsed": false
   },
   "outputs": [],
   "source": [
    "proba_threshold = 0.7\n",
    "\n",
    "def DecisionTree_layer(image):\n",
    "    image_pca = pca2.transform(image.reshape(1, -1))\n",
    "    scores = random_forest.predict_proba(image_pca)[0].tolist()\n",
    "    max_score = max(scores)\n",
    "    predicted_class = scores.index(max_score)\n",
    "    if max_score >= proba_threshold:\n",
    "        return [True, predicted_class, max_score]\n",
    "    return [False, predicted_class, max_score]"
   ]
  },
  {
   "cell_type": "code",
   "execution_count": 40,
   "metadata": {
    "collapsed": false
   },
   "outputs": [],
   "source": [
    "validation_false_positive_rate2 = float(sum(1 for score in validation_false_positive_scores if score >= proba_threshold)) / float(validation_images_pca2.shape[0])\n",
    "\n",
    "n_unclassified_validation_images2 = sum(1 for label, prediction, proba in validation_labels_predictions_probas if proba < proba_threshold)\n",
    "n_classified_validation_images2 = validation_images_pca2.shape[0] - n_unclassified_validation_images2\n",
    "n_classified_ratio = float(n_classified_validation_images2) / float(n_unclassified_validation_images2 + n_classified_validation_images2)"
   ]
  },
  {
   "cell_type": "code",
   "execution_count": 41,
   "metadata": {
    "collapsed": false
   },
   "outputs": [
    {
     "name": "stdout",
     "output_type": "stream",
     "text": [
      "0.0018641810918774966\n"
     ]
    }
   ],
   "source": [
    "print(validation_false_positive_rate2)"
   ]
  },
  {
   "cell_type": "code",
   "execution_count": 42,
   "metadata": {
    "collapsed": false
   },
   "outputs": [
    {
     "name": "stdout",
     "output_type": "stream",
     "text": [
      "0.48868175765645805\n"
     ]
    }
   ],
   "source": [
    "print(n_classified_ratio)"
   ]
  },
  {
   "cell_type": "code",
   "execution_count": 43,
   "metadata": {
    "collapsed": true
   },
   "outputs": [],
   "source": [
    "n_unclassified_train_images2 = sum(1 for label, prediction, proba in train_labels_predictions_probas if proba < proba_threshold)\n",
    "n_classified_train_images2 = train_images_pca2.shape[0] - n_unclassified_train_images2\n",
    "\n",
    "n_unclassified_validation_images2 = sum(1 for label, prediction, proba in validation_labels_predictions_probas if proba < proba_threshold)\n",
    "n_classified_validation_images2 = validation_images_pca2.shape[0] - n_unclassified_validation_images2"
   ]
  },
  {
   "cell_type": "code",
   "execution_count": 44,
   "metadata": {
    "collapsed": false
   },
   "outputs": [
    {
     "name": "stdout",
     "output_type": "stream",
     "text": [
      "1874\n"
     ]
    }
   ],
   "source": [
    "print(n_unclassified_train_images2)"
   ]
  },
  {
   "cell_type": "code",
   "execution_count": 45,
   "metadata": {
    "collapsed": false
   },
   "outputs": [
    {
     "name": "stdout",
     "output_type": "stream",
     "text": [
      "34829\n"
     ]
    }
   ],
   "source": [
    "print(n_classified_train_images2)"
   ]
  },
  {
   "cell_type": "code",
   "execution_count": 46,
   "metadata": {
    "collapsed": false
   },
   "outputs": [
    {
     "name": "stdout",
     "output_type": "stream",
     "text": [
      "1920\n"
     ]
    }
   ],
   "source": [
    "print(n_unclassified_validation_images2)"
   ]
  },
  {
   "cell_type": "code",
   "execution_count": 47,
   "metadata": {
    "collapsed": false
   },
   "outputs": [
    {
     "name": "stdout",
     "output_type": "stream",
     "text": [
      "1835\n"
     ]
    }
   ],
   "source": [
    "print(n_classified_validation_images2)"
   ]
  },
  {
   "cell_type": "code",
   "execution_count": 48,
   "metadata": {
    "collapsed": false
   },
   "outputs": [],
   "source": [
    "unclassified_train_set_images2 = np.zeros((n_unclassified_train_images2, 784))\n",
    "unclassified_train_set_labels = []\n",
    "unclassified_train_indexes2 = []\n",
    "unclassified_train_index_map2 = []\n",
    "\n",
    "k = 0\n",
    "for i in range(0, train_set.images.shape[0]):\n",
    "    if i in unclassified_train_indexes1:\n",
    "        if train_labels_predictions_probas[unclassified_train_index_map1[i]][2] < proba_threshold:\n",
    "            unclassified_train_set_images2[k, :] = train_set.images[i, :]\n",
    "            unclassified_train_set_labels.append(train_set.labels[i])\n",
    "            unclassified_train_indexes2.append(i)\n",
    "            unclassified_train_index_map2.append(k)\n",
    "            k += 1\n",
    "        else:\n",
    "            unclassified_train_index_map2.append(-1)\n",
    "    else:\n",
    "        unclassified_train_index_map2.append(-1)\n",
    "total_n_unclassified_train_images = k\n",
    "        \n",
    "    \n",
    "unclassified_validation_set_images2 = np.zeros((n_unclassified_validation_images2, 784))\n",
    "unclassified_validation_set_labels = []\n",
    "unclassified_validation_indexes2 = []\n",
    "unclassified_validation_index_map2 = []\n",
    "\n",
    "k = 0\n",
    "for i in range(0, validation_set.images.shape[0]):\n",
    "    if i in unclassified_validation_indexes1:\n",
    "        if validation_labels_predictions_probas[unclassified_validation_index_map1[i]][2] < proba_threshold:\n",
    "            unclassified_validation_set_images2[k, :] = validation_set.images[i, :]\n",
    "            unclassified_validation_set_labels.append(validation_set.labels[i])\n",
    "            unclassified_validation_indexes2.append(i)\n",
    "            k += 1\n",
    "        else:\n",
    "            unclassified_validation_index_map2.append(-1)\n",
    "    else:\n",
    "        unclassified_validation_index_map2.append(-1)\n",
    "total_n_unclassified_validation_images = k"
   ]
  },
  {
   "cell_type": "code",
   "execution_count": 49,
   "metadata": {
    "collapsed": false
   },
   "outputs": [
    {
     "data": {
      "text/plain": [
       "PCA(copy=True, iterated_power='auto', n_components=100, random_state=None,\n",
       "  svd_solver='auto', tol=0.0, whiten=False)"
      ]
     },
     "execution_count": 49,
     "metadata": {},
     "output_type": "execute_result"
    }
   ],
   "source": [
    "pca3 = PCA(n_components=100)\n",
    "pca3.fit(unclassified_train_set_images2)"
   ]
  },
  {
   "cell_type": "code",
   "execution_count": 50,
   "metadata": {
    "collapsed": true
   },
   "outputs": [],
   "source": [
    "train_images_pca3 = pca3.transform(unclassified_train_set_images2)\n",
    "validation_images_pca3 = pca3.transform(unclassified_validation_set_images2)"
   ]
  },
  {
   "cell_type": "code",
   "execution_count": 51,
   "metadata": {
    "collapsed": false
   },
   "outputs": [
    {
     "name": "stdout",
     "output_type": "stream",
     "text": [
      "1874\n"
     ]
    }
   ],
   "source": [
    "print(total_n_unclassified_train_images)"
   ]
  },
  {
   "cell_type": "code",
   "execution_count": 52,
   "metadata": {
    "collapsed": false
   },
   "outputs": [
    {
     "name": "stdout",
     "output_type": "stream",
     "text": [
      "1920\n"
     ]
    }
   ],
   "source": [
    "print(total_n_unclassified_validation_images)"
   ]
  },
  {
   "cell_type": "code",
   "execution_count": 53,
   "metadata": {
    "collapsed": false
   },
   "outputs": [
    {
     "data": {
      "text/plain": [
       "PCA(copy=True, iterated_power='auto', n_components=2, random_state=None,\n",
       "  svd_solver='auto', tol=0.0, whiten=False)"
      ]
     },
     "execution_count": 53,
     "metadata": {},
     "output_type": "execute_result"
    }
   ],
   "source": [
    "pca4 = PCA(n_components=2)\n",
    "pca4.fit(unclassified_train_set_images2)"
   ]
  },
  {
   "cell_type": "code",
   "execution_count": 54,
   "metadata": {
    "collapsed": true
   },
   "outputs": [],
   "source": [
    "train_images_pca4 = pca4.transform(unclassified_train_set_images2)\n",
    "validation_images_pca4 = pca4.transform(unclassified_validation_set_images2)"
   ]
  },
  {
   "cell_type": "code",
   "execution_count": 55,
   "metadata": {
    "collapsed": false
   },
   "outputs": [
    {
     "data": {
      "image/png": "[encoded data removed]",
      "text/plain": [
       "<matplotlib.figure.Figure at 0x7fc149c9ae48>"
      ]
     },
     "metadata": {},
     "output_type": "display_data"
    }
   ],
   "source": [
    "%matplotlib inline\n",
    "matplotlib.pylab.rcParams['figure.figsize'] = (12, 12)\n",
    "\n",
    "color_values = ['red', 'green', 'blue', 'orange', 'green', 'cyan', 'pink', 'magenta', 'yellow', 'black']\n",
    "for i in range(0, train_set.images.shape[0]):\n",
    "    if i in unclassified_train_indexes2:\n",
    "        k = unclassified_train_index_map2[i]\n",
    "        plt.scatter(train_images_pca4[k][0], train_images_pca4[k][1], color=color_values[train_set.labels[i]])\n",
    "\n",
    "plt.show()   "
   ]
  },
  {
   "cell_type": "code",
   "execution_count": 56,
   "metadata": {
    "collapsed": true
   },
   "outputs": [],
   "source": [
    "# Parameters\n",
    "learning_rate = 0.001\n",
    "training_epochs = 15\n",
    "batch_size = 100\n",
    "display_step = 1\n",
    "\n",
    "# Network Parameters\n",
    "n_hidden_1 = 256 # 1st layer number of features\n",
    "n_hidden_2 = 256 # 2nd layer number of features\n",
    "n_input = 784 # MNIST data input (img shape: 28*28)\n",
    "n_classes = 10 # MNIST total classes (0-9 digits)\n",
    "\n",
    "# tf Graph input\n",
    "x = tf.placeholder(\"float\", [None, n_input])\n",
    "y = tf.placeholder(\"float\", [None, n_classes])"
   ]
  },
  {
   "cell_type": "code",
   "execution_count": 57,
   "metadata": {
    "collapsed": true
   },
   "outputs": [],
   "source": [
    "\n",
    "# Create model\n",
    "def multilayer_perceptron(x, weights, biases):\n",
    "    # Hidden layer with RELU activation\n",
    "    layer_1 = tf.add(tf.matmul(x, weights['h1']), biases['b1'])\n",
    "    layer_1 = tf.nn.relu(layer_1)\n",
    "    # Hidden layer with RELU activation\n",
    "    layer_2 = tf.add(tf.matmul(layer_1, weights['h2']), biases['b2'])\n",
    "    layer_2 = tf.nn.relu(layer_2)\n",
    "    # Output layer with linear activation\n",
    "    out_layer = tf.matmul(layer_2, weights['out']) + biases['out']\n",
    "    return out_layer"
   ]
  },
  {
   "cell_type": "code",
   "execution_count": 58,
   "metadata": {
    "collapsed": true
   },
   "outputs": [],
   "source": [
    "# Store layers weight & bias\n",
    "weights = {\n",
    "    'h1': tf.Variable(tf.random_normal([n_input, n_hidden_1])),\n",
    "    'h2': tf.Variable(tf.random_normal([n_hidden_1, n_hidden_2])),\n",
    "    'out': tf.Variable(tf.random_normal([n_hidden_2, n_classes]))\n",
    "}\n",
    "biases = {\n",
    "    'b1': tf.Variable(tf.random_normal([n_hidden_1])),\n",
    "    'b2': tf.Variable(tf.random_normal([n_hidden_2])),\n",
    "    'out': tf.Variable(tf.random_normal([n_classes]))\n",
    "}\n",
    "\n",
    "# Construct model\n",
    "pred = multilayer_perceptron(x, weights, biases)\n",
    "\n",
    "# Define loss and optimizer\n",
    "cost = tf.reduce_mean(tf.nn.softmax_cross_entropy_with_logits(logits=pred, labels=y))\n",
    "optimizer = tf.train.AdamOptimizer(learning_rate=learning_rate).minimize(cost)\n",
    "\n",
    "# Initializing the variables\n",
    "init = tf.global_variables_initializer()"
   ]
  },
  {
   "cell_type": "code",
   "execution_count": 59,
   "metadata": {
    "collapsed": false
   },
   "outputs": [],
   "source": [
    "def get_mnist_batch(batch_size):\n",
    "    \n",
    "    '''\n",
    "    indexes = np.random.choice(train_images_pca3.shape[0], batch_size)\n",
    "    batch_x = np.zeros((batch_size, 100))\n",
    "    batch_y = np.zeros((batch_size, 10))\n",
    "    for i in range(0, batch_size):\n",
    "        batch_x[i, :] = train_images_pca3[indexes[i], :]\n",
    "        batch_y[i, unclassified_train_set_labels[indexes[i]]] = 1.0\n",
    "    '''\n",
    "    \n",
    "    indexes = np.random.choice(train_set.images.shape[0], batch_size)\n",
    "    batch_x = np.zeros((batch_size, 784))\n",
    "    batch_y = np.zeros((batch_size, 10))\n",
    "    for i in range(0, batch_size):\n",
    "        batch_x[i, :] = train_set.images[indexes[i], :]\n",
    "        batch_y[i, train_set.labels[indexes[i]]] = 1.0\n",
    "    \n",
    "    return batch_x, batch_y"
   ]
  },
  {
   "cell_type": "code",
   "execution_count": 60,
   "metadata": {
    "collapsed": true
   },
   "outputs": [],
   "source": [
    "def labels_to_one_hot(labels):\n",
    "    ret = np.zeros((len(labels), 10))\n",
    "    for i in range(0, len(labels)):\n",
    "        ret[i, labels[i]] = 1.0\n",
    "    return ret"
   ]
  },
  {
   "cell_type": "code",
   "execution_count": 61,
   "metadata": {
    "collapsed": false
   },
   "outputs": [
    {
     "name": "stdout",
     "output_type": "stream",
     "text": [
      "Epoch: 0001 cost= 157.523719208\n",
      "Epoch: 0002 cost= 38.001214043\n",
      "Epoch: 0003 cost= 23.137930520\n",
      "Epoch: 0004 cost= 16.936569855\n",
      "Epoch: 0005 cost= 12.018801439\n",
      "Epoch: 0006 cost= 9.303927720\n",
      "Epoch: 0007 cost= 6.503854946\n",
      "Epoch: 0008 cost= 5.347187337\n",
      "Epoch: 0009 cost= 4.005216238\n",
      "Epoch: 0010 cost= 3.220319351\n",
      "Epoch: 0011 cost= 2.351638339\n",
      "Epoch: 0012 cost= 1.818343328\n",
      "Epoch: 0013 cost= 1.349561053\n",
      "Epoch: 0014 cost= 1.397128932\n",
      "Epoch: 0015 cost= 1.043829859\n",
      "Optimization Finished!\n",
      "Accuracy: 0.888021\n"
     ]
    }
   ],
   "source": [
    "# Launch the graph\n",
    "with tf.Session() as sess:\n",
    "    sess.run(init)\n",
    "\n",
    "    # Training cycle\n",
    "    for epoch in range(training_epochs):\n",
    "        avg_cost = 0.\n",
    "        total_batch = int(mnist.train.num_examples/batch_size)\n",
    "        # Loop over all batches\n",
    "        for i in range(total_batch):\n",
    "            batch_x, batch_y = get_mnist_batch(batch_size)\n",
    "            #batch_x, batch_y = mnist.train.next_batch(batch_size)\n",
    "            #print(batch_y[0])\n",
    "            # Run optimization op (backprop) and cost op (to get loss value)\n",
    "            _, c = sess.run([optimizer, cost], feed_dict={x: batch_x,\n",
    "                                                          y: batch_y})\n",
    "            # Compute average loss\n",
    "            avg_cost += c / total_batch\n",
    "        # Display logs per epoch step\n",
    "        if epoch % display_step == 0:\n",
    "            print(\"Epoch:\", '%04d' % (epoch+1), \"cost=\", \\\n",
    "                \"{:.9f}\".format(avg_cost))\n",
    "    print(\"Optimization Finished!\")\n",
    "\n",
    "    # Test model\n",
    "    correct_prediction = tf.equal(tf.argmax(pred, 1), tf.argmax(y, 1))\n",
    "    # Calculate accuracy\n",
    "    accuracy = tf.reduce_mean(tf.cast(correct_prediction, \"float\"))\n",
    "    print(\"Accuracy:\", accuracy.eval({x: unclassified_validation_set_images2, y: labels_to_one_hot(unclassified_validation_set_labels)}))"
   ]
  },
  {
   "cell_type": "code",
   "execution_count": 62,
   "metadata": {
    "collapsed": false
   },
   "outputs": [],
   "source": [
    "# Parameters\n",
    "learning_rate = 0.001\n",
    "training_iters = 200000\n",
    "batch_size = 128\n",
    "display_step = 10\n",
    "\n",
    "# Network Parameters\n",
    "n_input = 784 # MNIST data input (img shape: 28*28)\n",
    "n_classes = 10 # MNIST total classes (0-9 digits)\n",
    "dropout = 0.75 # Dropout, probability to keep units\n",
    "\n",
    "# tf Graph input\n",
    "x = tf.placeholder(tf.float32, [None, n_input])\n",
    "y = tf.placeholder(tf.float32, [None, n_classes])\n",
    "keep_prob = tf.placeholder(tf.float32) #dropout (keep probability)"
   ]
  },
  {
   "cell_type": "code",
   "execution_count": 63,
   "metadata": {
    "collapsed": true
   },
   "outputs": [],
   "source": [
    "# Create some wrappers for simplicity\n",
    "def conv2d(x, W, b, strides=1):\n",
    "    # Conv2D wrapper, with bias and relu activation\n",
    "    x = tf.nn.conv2d(x, W, strides=[1, strides, strides, 1], padding='SAME')\n",
    "    x = tf.nn.bias_add(x, b)\n",
    "    return tf.nn.relu(x)\n",
    "\n",
    "\n",
    "def maxpool2d(x, k=2):\n",
    "    # MaxPool2D wrapper\n",
    "    return tf.nn.max_pool(x, ksize=[1, k, k, 1], strides=[1, k, k, 1],\n",
    "                          padding='SAME')\n",
    "\n",
    "\n",
    "# Create model\n",
    "def conv_net(x, weights, biases, dropout):\n",
    "    # Reshape input picture\n",
    "    x = tf.reshape(x, shape=[-1, 28, 28, 1])\n",
    "\n",
    "    # Convolution Layer\n",
    "    conv1 = conv2d(x, weights['wc1'], biases['bc1'])\n",
    "    # Max Pooling (down-sampling)\n",
    "    conv1 = maxpool2d(conv1, k=2)\n",
    "\n",
    "    # Convolution Layer\n",
    "    conv2 = conv2d(conv1, weights['wc2'], biases['bc2'])\n",
    "    # Max Pooling (down-sampling)\n",
    "    conv2 = maxpool2d(conv2, k=2)\n",
    "\n",
    "    # Fully connected layer\n",
    "    # Reshape conv2 output to fit fully connected layer input\n",
    "    fc1 = tf.reshape(conv2, [-1, weights['wd1'].get_shape().as_list()[0]])\n",
    "    fc1 = tf.add(tf.matmul(fc1, weights['wd1']), biases['bd1'])\n",
    "    fc1 = tf.nn.relu(fc1)\n",
    "    # Apply Dropout\n",
    "    fc1 = tf.nn.dropout(fc1, dropout)\n",
    "\n",
    "    # Output, class prediction\n",
    "    out = tf.add(tf.matmul(fc1, weights['out']), biases['out'])\n",
    "    return out"
   ]
  },
  {
   "cell_type": "code",
   "execution_count": 64,
   "metadata": {
    "collapsed": true
   },
   "outputs": [],
   "source": [
    "# Store layers weight & bias\n",
    "weights = {\n",
    "    # 5x5 conv, 1 input, 32 outputs\n",
    "    'wc1': tf.Variable(tf.random_normal([5, 5, 1, 32])),\n",
    "    # 5x5 conv, 32 inputs, 64 outputs\n",
    "    'wc2': tf.Variable(tf.random_normal([5, 5, 32, 64])),\n",
    "    # fully connected, 7*7*64 inputs, 1024 outputs\n",
    "    'wd1': tf.Variable(tf.random_normal([7*7*64, 1024])),\n",
    "    # 1024 inputs, 10 outputs (class prediction)\n",
    "    'out': tf.Variable(tf.random_normal([1024, n_classes]))\n",
    "}\n",
    "\n",
    "biases = {\n",
    "    'bc1': tf.Variable(tf.random_normal([32])),\n",
    "    'bc2': tf.Variable(tf.random_normal([64])),\n",
    "    'bd1': tf.Variable(tf.random_normal([1024])),\n",
    "    'out': tf.Variable(tf.random_normal([n_classes]))\n",
    "}\n",
    "\n",
    "# Construct model\n",
    "pred = conv_net(x, weights, biases, keep_prob)\n",
    "\n",
    "# Define loss and optimizer\n",
    "cost = tf.reduce_mean(tf.nn.softmax_cross_entropy_with_logits(logits=pred, labels=y))\n",
    "optimizer = tf.train.AdamOptimizer(learning_rate=learning_rate).minimize(cost)\n",
    "\n",
    "# Evaluate model\n",
    "correct_pred = tf.equal(tf.argmax(pred, 1), tf.argmax(y, 1))\n",
    "accuracy = tf.reduce_mean(tf.cast(correct_pred, tf.float32))\n",
    "\n",
    "# Initializing the variables\n",
    "init = tf.global_variables_initializer()"
   ]
  },
  {
   "cell_type": "code",
   "execution_count": 89,
   "metadata": {
    "collapsed": false
   },
   "outputs": [
    {
     "name": "stdout",
     "output_type": "stream",
     "text": [
      "Iter 1280, Minibatch Loss= 26650.779297, Training Accuracy= 0.21875\n",
      "Iter 2560, Minibatch Loss= 10150.923828, Training Accuracy= 0.42188\n",
      "Iter 3840, Minibatch Loss= 8353.493164, Training Accuracy= 0.58594\n",
      "Iter 5120, Minibatch Loss= 6558.556641, Training Accuracy= 0.67969\n",
      "Iter 6400, Minibatch Loss= 4442.170898, Training Accuracy= 0.71094\n",
      "Iter 7680, Minibatch Loss= 2753.019531, Training Accuracy= 0.83594\n",
      "Iter 8960, Minibatch Loss= 1729.170532, Training Accuracy= 0.89062\n",
      "Iter 10240, Minibatch Loss= 2295.300781, Training Accuracy= 0.85156\n",
      "Iter 11520, Minibatch Loss= 1433.195557, Training Accuracy= 0.90625\n",
      "Iter 12800, Minibatch Loss= 3643.830322, Training Accuracy= 0.81250\n",
      "Iter 14080, Minibatch Loss= 1266.397705, Training Accuracy= 0.89844\n",
      "Iter 15360, Minibatch Loss= 2482.707031, Training Accuracy= 0.90625\n",
      "Iter 16640, Minibatch Loss= 505.600403, Training Accuracy= 0.92969\n",
      "Iter 17920, Minibatch Loss= 2211.198975, Training Accuracy= 0.88281\n",
      "Iter 19200, Minibatch Loss= 1685.039062, Training Accuracy= 0.89844\n",
      "Iter 20480, Minibatch Loss= 1037.526855, Training Accuracy= 0.92969\n",
      "Iter 21760, Minibatch Loss= 1605.304688, Training Accuracy= 0.90625\n",
      "Iter 23040, Minibatch Loss= 1754.811035, Training Accuracy= 0.87500\n",
      "Iter 24320, Minibatch Loss= 1726.675537, Training Accuracy= 0.92969\n",
      "Iter 25600, Minibatch Loss= 2618.638428, Training Accuracy= 0.90625\n",
      "Iter 26880, Minibatch Loss= 1333.622925, Training Accuracy= 0.90625\n",
      "Iter 28160, Minibatch Loss= 836.134460, Training Accuracy= 0.92969\n",
      "Iter 29440, Minibatch Loss= 447.507507, Training Accuracy= 0.95312\n",
      "Iter 30720, Minibatch Loss= 1090.291260, Training Accuracy= 0.93750\n",
      "Iter 32000, Minibatch Loss= 2510.249023, Training Accuracy= 0.87500\n",
      "Iter 33280, Minibatch Loss= 1249.953003, Training Accuracy= 0.91406\n",
      "Iter 34560, Minibatch Loss= 1058.312500, Training Accuracy= 0.88281\n",
      "Iter 35840, Minibatch Loss= 1083.754272, Training Accuracy= 0.92188\n",
      "Iter 37120, Minibatch Loss= 562.718140, Training Accuracy= 0.93750\n",
      "Iter 38400, Minibatch Loss= 660.047485, Training Accuracy= 0.96094\n",
      "Iter 39680, Minibatch Loss= 947.934326, Training Accuracy= 0.92188\n",
      "Iter 40960, Minibatch Loss= 1417.322632, Training Accuracy= 0.92188\n",
      "Iter 42240, Minibatch Loss= 666.957520, Training Accuracy= 0.92969\n",
      "Iter 43520, Minibatch Loss= 560.814758, Training Accuracy= 0.93750\n",
      "Iter 44800, Minibatch Loss= 444.823944, Training Accuracy= 0.97656\n",
      "Iter 46080, Minibatch Loss= 728.338257, Training Accuracy= 0.92188\n",
      "Iter 47360, Minibatch Loss= 2606.572266, Training Accuracy= 0.86719\n",
      "Iter 48640, Minibatch Loss= 638.997437, Training Accuracy= 0.92969\n",
      "Iter 49920, Minibatch Loss= 479.804657, Training Accuracy= 0.95312\n",
      "Iter 51200, Minibatch Loss= 633.777405, Training Accuracy= 0.94531\n",
      "Iter 52480, Minibatch Loss= 2107.911377, Training Accuracy= 0.90625\n",
      "Iter 53760, Minibatch Loss= 387.666290, Training Accuracy= 0.94531\n",
      "Iter 55040, Minibatch Loss= 635.457275, Training Accuracy= 0.93750\n",
      "Iter 56320, Minibatch Loss= 995.456543, Training Accuracy= 0.90625\n",
      "Iter 57600, Minibatch Loss= 704.433960, Training Accuracy= 0.95312\n",
      "Iter 58880, Minibatch Loss= 277.218262, Training Accuracy= 0.97656\n",
      "Iter 60160, Minibatch Loss= 1134.683350, Training Accuracy= 0.92969\n",
      "Iter 61440, Minibatch Loss= 777.824829, Training Accuracy= 0.94531\n",
      "Iter 62720, Minibatch Loss= 332.647949, Training Accuracy= 0.95312\n",
      "Iter 64000, Minibatch Loss= 514.660522, Training Accuracy= 0.94531\n",
      "Iter 65280, Minibatch Loss= 1015.556152, Training Accuracy= 0.94531\n",
      "Iter 66560, Minibatch Loss= 617.771729, Training Accuracy= 0.96875\n",
      "Iter 67840, Minibatch Loss= 282.455139, Training Accuracy= 0.96875\n",
      "Iter 69120, Minibatch Loss= 733.822021, Training Accuracy= 0.95312\n",
      "Iter 70400, Minibatch Loss= 433.499603, Training Accuracy= 0.92969\n",
      "Iter 71680, Minibatch Loss= 10.376068, Training Accuracy= 0.98438\n",
      "Iter 72960, Minibatch Loss= 371.034698, Training Accuracy= 0.94531\n",
      "Iter 74240, Minibatch Loss= 315.957825, Training Accuracy= 0.94531\n",
      "Iter 75520, Minibatch Loss= 466.205017, Training Accuracy= 0.94531\n",
      "Iter 76800, Minibatch Loss= 314.458679, Training Accuracy= 0.96094\n",
      "Iter 78080, Minibatch Loss= 451.309479, Training Accuracy= 0.96094\n",
      "Iter 79360, Minibatch Loss= 476.251526, Training Accuracy= 0.94531\n",
      "Iter 80640, Minibatch Loss= 243.197418, Training Accuracy= 0.96875\n",
      "Iter 81920, Minibatch Loss= 193.482071, Training Accuracy= 0.97656\n",
      "Iter 83200, Minibatch Loss= 745.036316, Training Accuracy= 0.92969\n",
      "Iter 84480, Minibatch Loss= 191.576508, Training Accuracy= 0.98438\n",
      "Iter 85760, Minibatch Loss= 93.417831, Training Accuracy= 0.97656\n",
      "Iter 87040, Minibatch Loss= 0.000000, Training Accuracy= 1.00000\n",
      "Iter 88320, Minibatch Loss= 587.972595, Training Accuracy= 0.94531\n",
      "Iter 89600, Minibatch Loss= 319.821716, Training Accuracy= 0.96875\n",
      "Iter 90880, Minibatch Loss= 191.453735, Training Accuracy= 0.97656\n",
      "Iter 92160, Minibatch Loss= 418.041260, Training Accuracy= 0.96875\n",
      "Iter 93440, Minibatch Loss= 1200.511108, Training Accuracy= 0.92969\n",
      "Iter 94720, Minibatch Loss= 429.796112, Training Accuracy= 0.96875\n",
      "Iter 96000, Minibatch Loss= 247.478577, Training Accuracy= 0.97656\n",
      "Iter 97280, Minibatch Loss= 642.059387, Training Accuracy= 0.96094\n",
      "Iter 98560, Minibatch Loss= 355.774597, Training Accuracy= 0.96094\n",
      "Iter 99840, Minibatch Loss= 702.455994, Training Accuracy= 0.93750\n",
      "Iter 101120, Minibatch Loss= 580.195190, Training Accuracy= 0.92188\n",
      "Iter 102400, Minibatch Loss= 390.357819, Training Accuracy= 0.96094\n",
      "Iter 103680, Minibatch Loss= 313.440155, Training Accuracy= 0.95312\n",
      "Iter 104960, Minibatch Loss= 193.856400, Training Accuracy= 0.95312\n",
      "Iter 106240, Minibatch Loss= 113.811829, Training Accuracy= 0.96875\n",
      "Iter 107520, Minibatch Loss= 219.864639, Training Accuracy= 0.96094\n",
      "Iter 108800, Minibatch Loss= 78.839828, Training Accuracy= 0.96875\n",
      "Iter 110080, Minibatch Loss= 158.459381, Training Accuracy= 0.97656\n",
      "Iter 111360, Minibatch Loss= 148.477615, Training Accuracy= 0.99219\n",
      "Iter 112640, Minibatch Loss= 610.497192, Training Accuracy= 0.94531\n",
      "Iter 113920, Minibatch Loss= 287.211609, Training Accuracy= 0.96094\n",
      "Iter 115200, Minibatch Loss= 283.252411, Training Accuracy= 0.96094\n",
      "Iter 116480, Minibatch Loss= 244.316238, Training Accuracy= 0.97656\n",
      "Iter 117760, Minibatch Loss= 85.207314, Training Accuracy= 0.97656\n",
      "Iter 119040, Minibatch Loss= 24.409607, Training Accuracy= 0.98438\n",
      "Iter 120320, Minibatch Loss= 157.522308, Training Accuracy= 0.97656\n",
      "Iter 121600, Minibatch Loss= 191.226410, Training Accuracy= 0.96094\n",
      "Iter 122880, Minibatch Loss= 234.263596, Training Accuracy= 0.95312\n",
      "Iter 124160, Minibatch Loss= 584.896790, Training Accuracy= 0.95312\n",
      "Iter 125440, Minibatch Loss= 203.422379, Training Accuracy= 0.99219\n",
      "Iter 126720, Minibatch Loss= 312.717896, Training Accuracy= 0.96875\n",
      "Iter 128000, Minibatch Loss= 161.758194, Training Accuracy= 0.99219\n",
      "Iter 129280, Minibatch Loss= 158.296570, Training Accuracy= 0.96094\n",
      "Iter 130560, Minibatch Loss= 140.253387, Training Accuracy= 0.96094\n",
      "Iter 131840, Minibatch Loss= 62.518688, Training Accuracy= 0.98438\n",
      "Iter 133120, Minibatch Loss= 32.127544, Training Accuracy= 0.99219\n",
      "Iter 134400, Minibatch Loss= 52.519081, Training Accuracy= 0.97656\n",
      "Iter 135680, Minibatch Loss= 322.815063, Training Accuracy= 0.96875\n",
      "Iter 136960, Minibatch Loss= 507.865967, Training Accuracy= 0.96094\n",
      "Iter 138240, Minibatch Loss= 151.882080, Training Accuracy= 0.98438\n",
      "Iter 139520, Minibatch Loss= 209.220779, Training Accuracy= 0.97656\n",
      "Iter 140800, Minibatch Loss= 18.106857, Training Accuracy= 0.98438\n",
      "Iter 142080, Minibatch Loss= 65.237938, Training Accuracy= 0.98438\n",
      "Iter 143360, Minibatch Loss= 75.667603, Training Accuracy= 0.98438\n",
      "Iter 144640, Minibatch Loss= 7.214806, Training Accuracy= 0.98438\n",
      "Iter 145920, Minibatch Loss= 199.064804, Training Accuracy= 0.94531\n",
      "Iter 147200, Minibatch Loss= 60.342205, Training Accuracy= 0.98438\n",
      "Iter 148480, Minibatch Loss= 306.615784, Training Accuracy= 0.95312\n",
      "Iter 149760, Minibatch Loss= 29.180927, Training Accuracy= 0.97656\n",
      "Iter 151040, Minibatch Loss= 31.064571, Training Accuracy= 0.98438\n",
      "Iter 152320, Minibatch Loss= 32.907558, Training Accuracy= 0.98438\n",
      "Iter 153600, Minibatch Loss= 218.511658, Training Accuracy= 0.96875\n",
      "Iter 154880, Minibatch Loss= 137.106445, Training Accuracy= 0.94531\n",
      "Iter 156160, Minibatch Loss= 202.906677, Training Accuracy= 0.94531\n",
      "Iter 157440, Minibatch Loss= 229.933823, Training Accuracy= 0.96875\n",
      "Iter 158720, Minibatch Loss= 30.446175, Training Accuracy= 0.96875\n",
      "Iter 160000, Minibatch Loss= 67.447792, Training Accuracy= 0.96875\n",
      "Iter 161280, Minibatch Loss= 198.697189, Training Accuracy= 0.97656\n",
      "Iter 162560, Minibatch Loss= 52.393631, Training Accuracy= 0.97656\n",
      "Iter 163840, Minibatch Loss= 183.873672, Training Accuracy= 0.96094\n",
      "Iter 165120, Minibatch Loss= 273.493164, Training Accuracy= 0.97656\n",
      "Iter 166400, Minibatch Loss= 0.000000, Training Accuracy= 1.00000\n",
      "Iter 167680, Minibatch Loss= 107.232620, Training Accuracy= 0.97656\n",
      "Iter 168960, Minibatch Loss= 101.970993, Training Accuracy= 0.98438\n",
      "Iter 170240, Minibatch Loss= 101.502686, Training Accuracy= 0.97656\n",
      "Iter 171520, Minibatch Loss= 26.973038, Training Accuracy= 0.98438\n",
      "Iter 172800, Minibatch Loss= 16.777664, Training Accuracy= 0.98438\n",
      "Iter 174080, Minibatch Loss= 94.582001, Training Accuracy= 0.97656\n",
      "Iter 175360, Minibatch Loss= 76.499634, Training Accuracy= 0.97656\n",
      "Iter 176640, Minibatch Loss= 370.538025, Training Accuracy= 0.95312\n",
      "Iter 177920, Minibatch Loss= 167.729187, Training Accuracy= 0.98438\n",
      "Iter 179200, Minibatch Loss= 673.011353, Training Accuracy= 0.93750\n",
      "Iter 180480, Minibatch Loss= 361.013641, Training Accuracy= 0.97656\n",
      "Iter 181760, Minibatch Loss= 97.833824, Training Accuracy= 0.98438\n",
      "Iter 183040, Minibatch Loss= 41.676712, Training Accuracy= 0.98438\n",
      "Iter 184320, Minibatch Loss= 10.370735, Training Accuracy= 0.99219\n",
      "Iter 185600, Minibatch Loss= 84.050476, Training Accuracy= 0.98438\n",
      "Iter 186880, Minibatch Loss= 146.454086, Training Accuracy= 0.97656\n",
      "Iter 188160, Minibatch Loss= 42.074799, Training Accuracy= 0.98438\n",
      "Iter 189440, Minibatch Loss= 238.771606, Training Accuracy= 0.96875\n",
      "Iter 190720, Minibatch Loss= 241.980850, Training Accuracy= 0.96875\n",
      "Iter 192000, Minibatch Loss= 13.592667, Training Accuracy= 0.98438\n",
      "Iter 193280, Minibatch Loss= 72.173546, Training Accuracy= 0.97656\n",
      "Iter 194560, Minibatch Loss= 191.178223, Training Accuracy= 0.97656\n",
      "Iter 195840, Minibatch Loss= 195.488495, Training Accuracy= 0.96875\n",
      "Iter 197120, Minibatch Loss= 1.658798, Training Accuracy= 0.99219\n",
      "Iter 198400, Minibatch Loss= 104.410301, Training Accuracy= 0.96875\n",
      "Iter 199680, Minibatch Loss= 14.610657, Training Accuracy= 0.99219\n",
      "Optimization Finished!\n",
      "Accuracy: 0.928646\n"
     ]
    }
   ],
   "source": [
    "losses = []\n",
    "accuracies = []\n",
    "# Launch the graph\n",
    "with tf.Session() as sess:\n",
    "    sess.run(init)\n",
    "    step = 1\n",
    "    # Keep training until reach max iterations\n",
    "    while step * batch_size < training_iters:\n",
    "        #batch_x, batch_y = mnist.train.next_batch(batch_size)\n",
    "        batch_x, batch_y = get_mnist_batch(batch_size)\n",
    "        # Run optimization op (backprop)\n",
    "        sess.run(optimizer, feed_dict={x: batch_x, y: batch_y,\n",
    "                                       keep_prob: dropout})\n",
    "        if step % display_step == 0:\n",
    "            # Calculate batch loss and accuracy\n",
    "            loss, acc = sess.run([cost, accuracy], feed_dict={x: batch_x,\n",
    "                                                              y: batch_y,\n",
    "                                                              keep_prob: 1.})\n",
    "            print(\"Iter \" + str(step*batch_size) + \", Minibatch Loss= \" + \\\n",
    "                  \"{:.6f}\".format(loss) + \", Training Accuracy= \" + \\\n",
    "                  \"{:.5f}\".format(acc))\n",
    "            losses.append(loss)\n",
    "            accuracies.append(acc)\n",
    "        step += 1\n",
    "    print(\"Optimization Finished!\")\n",
    "    print(\"Accuracy:\", accuracy.eval({x: unclassified_validation_set_images2,\n",
    "                                      y: labels_to_one_hot(unclassified_validation_set_labels),\n",
    "                                      keep_prob: 1.}))\n",
    "    predictions = pred.eval({x: test_set.images,\n",
    "                                      keep_prob: 1.})"
   ]
  },
  {
   "cell_type": "code",
   "execution_count": 90,
   "metadata": {
    "collapsed": false
   },
   "outputs": [
    {
     "name": "stdout",
     "output_type": "stream",
     "text": [
      "[[-20657.39453125 -21907.265625    -2582.92993164 ...,  37041.6171875\n",
      "  -22688.97070312 -10768.68554688]\n",
      " [  -940.51727295   6983.81982422  51178.26171875 ..., -28079.28125\n",
      "   -1517.55383301 -37416.5703125 ]\n",
      " [-12985.86132812  24486.61132812  -6592.61962891 ...,  -1820.19714355\n",
      "   -4691.05224609  -9321.69628906]\n",
      " ..., \n",
      " [-23974.8046875   -8882.96289062 -20947.79296875 ...,   5331.11914062\n",
      "    2993.96582031   7334.46289062]\n",
      " [-15874.328125   -15804.46972656 -32366.73242188 ..., -23877.34179688\n",
      "    5364.03808594  -9412.80175781]\n",
      " [  3862.17480469 -27883.12304688  12061.73339844 ..., -22846.49609375\n",
      "   -1554.60449219 -14755.32617188]]\n"
     ]
    }
   ],
   "source": [
    "print(predictions)"
   ]
  },
  {
   "cell_type": "code",
   "execution_count": 91,
   "metadata": {
    "collapsed": true
   },
   "outputs": [],
   "source": [
    "cnn_predictions = predictions"
   ]
  },
  {
   "cell_type": "code",
   "execution_count": 105,
   "metadata": {
    "collapsed": true
   },
   "outputs": [],
   "source": [
    "def ensemble(test_image_index):\n",
    "    test_image = test_set.images[test_image_index]\n",
    "    prediction, predicted_class, score = GMM_layer(test_image)\n",
    "    if prediction:\n",
    "        return predicted_class\n",
    "    prediction, predicted_class, score = DecisionTree_layer(test_image)\n",
    "    if prediction:\n",
    "        return predicted_class\n",
    "    pred_list = cnn_predictions[test_image_index].tolist()\n",
    "    return pred_list.index(max(pred_list))"
   ]
  },
  {
   "cell_type": "code",
   "execution_count": 106,
   "metadata": {
    "collapsed": false
   },
   "outputs": [],
   "source": [
    "labels_predictions = []\n",
    "for i in range(0, test_set.images.shape[0]):\n",
    "    prediction = ensemble(i)\n",
    "    label = test_set.labels[i]\n",
    "    labels_predictions.append([label, prediction])"
   ]
  },
  {
   "cell_type": "code",
   "execution_count": 107,
   "metadata": {
    "collapsed": true
   },
   "outputs": [],
   "source": [
    "def get_confusion_matrix(n_classes, label_predictions):\n",
    "    ret = np.zeros((n_classes, n_classes))\n",
    "    for label_prediction in label_predictions:\n",
    "        label = label_prediction[0]\n",
    "        prediction = label_prediction[1]\n",
    "        ret[label, prediction] += 1\n",
    "    return ret"
   ]
  },
  {
   "cell_type": "code",
   "execution_count": 108,
   "metadata": {
    "collapsed": true
   },
   "outputs": [],
   "source": [
    "def get_error_ratio(label_predictions):\n",
    "    n_errors = 0\n",
    "    for label_prediction in label_predictions:\n",
    "        label = label_prediction[0]\n",
    "        prediction = label_prediction[1]\n",
    "        if label != prediction:\n",
    "            n_errors += 1\n",
    "    return float(n_errors) / float(len(label_predictions))"
   ]
  },
  {
   "cell_type": "code",
   "execution_count": 109,
   "metadata": {
    "collapsed": true
   },
   "outputs": [],
   "source": [
    "confusion_matrix = get_confusion_matrix(10, labels_predictions)"
   ]
  },
  {
   "cell_type": "code",
   "execution_count": 110,
   "metadata": {
    "collapsed": false
   },
   "outputs": [
    {
     "name": "stdout",
     "output_type": "stream",
     "text": [
      "[[  966.     0.     2.     1.     0.     1.     3.     3.     2.     2.]\n",
      " [    0.  1118.     6.     1.     1.     0.     5.     0.     4.     0.]\n",
      " [    2.     0.  1007.     2.     2.     0.     1.     5.    13.     0.]\n",
      " [    0.     0.     3.   997.     0.     1.     0.     4.     3.     2.]\n",
      " [    0.     0.     1.     1.   964.     0.     3.     0.     2.    11.]\n",
      " [    1.     0.     0.    19.     1.   866.     2.     0.     2.     1.]\n",
      " [    4.     3.     0.     0.     3.     4.   939.     0.     4.     1.]\n",
      " [    0.     6.    20.    11.     5.     0.     0.   972.     1.    13.]\n",
      " [    3.     0.     5.    11.     7.     3.     4.     2.   935.     4.]\n",
      " [    3.     1.     0.     7.    16.     3.     0.     7.     6.   966.]]\n"
     ]
    }
   ],
   "source": [
    "np.set_printoptions(suppress=True, threshold=10000)\n",
    "print(confusion_matrix)"
   ]
  },
  {
   "cell_type": "code",
   "execution_count": 112,
   "metadata": {
    "collapsed": false
   },
   "outputs": [],
   "source": [
    "error_ratio = get_error_ratio(labels_predictions)"
   ]
  },
  {
   "cell_type": "code",
   "execution_count": 113,
   "metadata": {
    "collapsed": false
   },
   "outputs": [
    {
     "name": "stdout",
     "output_type": "stream",
     "text": [
      "0.027\n"
     ]
    }
   ],
   "source": [
    "print(error_ratio)"
   ]
  },
  {
   "cell_type": "code",
   "execution_count": null,
   "metadata": {
    "collapsed": true
   },
   "outputs": [],
   "source": []
  }
 ],
 "metadata": {
  "kernelspec": {
   "display_name": "Python 3",
   "language": "python",
   "name": "python3"
  },
  "language_info": {
   "codemirror_mode": {
    "name": "ipython",
    "version": 3
   },
   "file_extension": ".py",
   "mimetype": "text/x-python",
   "name": "python",
   "nbconvert_exporter": "python",
   "pygments_lexer": "ipython3",
   "version": "3.5.0"
  },
  "widgets": {
   "state": {},
   "version": "1.1.2"
  }
 },
 "nbformat": 4,
 "nbformat_minor": 2
}
