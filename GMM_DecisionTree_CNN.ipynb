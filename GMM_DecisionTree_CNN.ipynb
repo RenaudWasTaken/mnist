{
 "cells": [
  {
   "cell_type": "code",
   "execution_count": 1,
   "metadata": {
    "collapsed": false
   },
   "outputs": [
    {
     "name": "stdout",
     "output_type": "stream",
     "text": [
      "The autoreload extension is already loaded. To reload it, use:\n",
      "  %reload_ext autoreload\n"
     ]
    }
   ],
   "source": [
    "%load_ext autoreload"
   ]
  },
  {
   "cell_type": "code",
   "execution_count": 2,
   "metadata": {
    "collapsed": true
   },
   "outputs": [],
   "source": [
    "import src.mnist"
   ]
  },
  {
   "cell_type": "code",
   "execution_count": 124,
   "metadata": {
    "collapsed": true
   },
   "outputs": [],
   "source": [
    "import matplotlib.pyplot as plt\n",
    "import numpy as np\n",
    "from sklearn.decomposition import PCA\n",
    "from sklearn.mixture import GaussianMixture\n",
    "from sklearn import tree\n",
    "from sklearn.ensemble import RandomForestClassifier"
   ]
  },
  {
   "cell_type": "code",
   "execution_count": 5,
   "metadata": {
    "collapsed": false
   },
   "outputs": [
    {
     "name": "stdout",
     "output_type": "stream",
     "text": [
      "Extracting /tmp/data/train-images-idx3-ubyte.gz\n",
      "Extracting /tmp/data/train-labels-idx1-ubyte.gz\n",
      "Extracting /tmp/data/t10k-images-idx3-ubyte.gz\n",
      "Extracting /tmp/data/t10k-labels-idx1-ubyte.gz\n",
      "MNIST(N=55000, dataset=\"train\", labels=(55000,), images=(55000, 784), PCA=False, KMeans=False)\n",
      "Extracting /tmp/data/train-images-idx3-ubyte.gz\n",
      "Extracting /tmp/data/train-labels-idx1-ubyte.gz\n",
      "Extracting /tmp/data/t10k-images-idx3-ubyte.gz\n",
      "Extracting /tmp/data/t10k-labels-idx1-ubyte.gz\n",
      "MNIST(N=10000, dataset=\"test\", labels=(10000,), images=(10000, 784), PCA=False, KMeans=False)\n"
     ]
    }
   ],
   "source": [
    "train_set, test_set = src.mnist.get_mnist_full()"
   ]
  },
  {
   "cell_type": "code",
   "execution_count": 6,
   "metadata": {
    "collapsed": false
   },
   "outputs": [
    {
     "data": {
      "text/plain": [
       "PCA(copy=True, iterated_power='auto', n_components=100, random_state=None,\n",
       "  svd_solver='auto', tol=0.0, whiten=False)"
      ]
     },
     "execution_count": 6,
     "metadata": {},
     "output_type": "execute_result"
    }
   ],
   "source": [
    "pca1 = PCA(n_components=100)\n",
    "pca1.fit(train_set.images)"
   ]
  },
  {
   "cell_type": "code",
   "execution_count": 8,
   "metadata": {
    "collapsed": false
   },
   "outputs": [],
   "source": [
    "train_images_pca1 = pca1.transform(train_set.images)"
   ]
  },
  {
   "cell_type": "code",
   "execution_count": 10,
   "metadata": {
    "collapsed": false
   },
   "outputs": [],
   "source": [
    "train_counter = np.bincount(train_set.labels)\n",
    "train_images_pca1_sorted = []\n",
    "\n",
    "for i in range(0, 10):\n",
    "    local_train_images_pca = np.zeros((train_counter[i], 100))\n",
    "    local_test_images_pca = np.zeros((test_counter[i], 100))\n",
    "    \n",
    "    k = 0\n",
    "    for j in range(0, train_set.images.shape[0]):\n",
    "        if train_set.labels[j] == i:\n",
    "            local_train_images_pca[k, :] = train_images_pca1[j]\n",
    "            k += 1\n",
    "    \n",
    "    train_images_pca1_sorted.append(local_train_images_pca)"
   ]
  },
  {
   "cell_type": "code",
   "execution_count": 13,
   "metadata": {
    "collapsed": false
   },
   "outputs": [
    {
     "name": "stdout",
     "output_type": "stream",
     "text": [
      "Initialization 0\n",
      "  Iteration 0\t time lapse 0.49591s\t ll change inf\n",
      "  Iteration 10\t time lapse 2.31570s\t ll change 0.00610\n",
      "  Iteration 20\t time lapse 2.25688s\t ll change 0.00265\n",
      "Initialization converged: True\t time lapse 6.92533s\t ll 21.01557\n",
      "Initialization 0\n",
      "  Iteration 0\t time lapse 0.55298s\t ll change inf\n",
      "  Iteration 10\t time lapse 2.47701s\t ll change 0.43424\n",
      "  Iteration 20\t time lapse 2.77552s\t ll change 0.03811\n",
      "  Iteration 30\t time lapse 2.67362s\t ll change 0.04102\n",
      "  Iteration 40\t time lapse 2.57764s\t ll change 0.42051\n",
      "  Iteration 50\t time lapse 2.63473s\t ll change 0.02135\n",
      "Initialization converged: True\t time lapse 15.51818s\t ll 204.83585\n",
      "Initialization 0\n",
      "  Iteration 0\t time lapse 0.58318s\t ll change inf\n",
      "  Iteration 10\t time lapse 2.67574s\t ll change 0.01277\n",
      "Initialization converged: True\t time lapse 5.37162s\t ll 0.40120\n",
      "Initialization 0\n",
      "  Iteration 0\t time lapse 0.54677s\t ll change inf\n",
      "  Iteration 10\t time lapse 2.67368s\t ll change 0.11747\n",
      "  Iteration 20\t time lapse 2.85660s\t ll change 0.02117\n",
      "Initialization converged: True\t time lapse 7.43247s\t ll 6.41802\n",
      "Initialization 0\n",
      "  Iteration 0\t time lapse 0.57341s\t ll change inf\n",
      "  Iteration 10\t time lapse 2.52758s\t ll change 0.00291\n",
      "  Iteration 20\t time lapse 2.54647s\t ll change 0.00298\n",
      "Initialization converged: True\t time lapse 6.57040s\t ll 24.83559\n",
      "Initialization 0\n",
      "  Iteration 0\t time lapse 0.51922s\t ll change inf\n",
      "  Iteration 10\t time lapse 2.41067s\t ll change 0.01787\n",
      "  Iteration 20\t time lapse 2.37550s\t ll change 0.00108\n",
      "Initialization converged: True\t time lapse 5.60994s\t ll 16.68093\n",
      "Initialization 0\n",
      "  Iteration 0\t time lapse 0.56141s\t ll change inf\n",
      "  Iteration 10\t time lapse 2.65677s\t ll change 0.10342\n",
      "  Iteration 20\t time lapse 2.81855s\t ll change 0.00749\n",
      "  Iteration 30\t time lapse 2.71978s\t ll change 0.00011\n",
      "Initialization converged: True\t time lapse 8.75694s\t ll 53.16336\n",
      "Initialization 0\n",
      "  Iteration 0\t time lapse 0.59001s\t ll change inf\n",
      "  Iteration 10\t time lapse 2.73104s\t ll change 0.57727\n",
      "  Iteration 20\t time lapse 2.73671s\t ll change 0.23976\n",
      "  Iteration 30\t time lapse 2.86010s\t ll change 0.03100\n",
      "  Iteration 40\t time lapse 2.75680s\t ll change 0.01244\n",
      "  Iteration 50\t time lapse 2.79297s\t ll change 0.41433\n",
      "  Iteration 60\t time lapse 2.80822s\t ll change 0.00826\n",
      "Initialization converged: True\t time lapse 19.11372s\t ll 65.88901\n",
      "Initialization 0\n",
      "  Iteration 0\t time lapse 0.63112s\t ll change inf\n",
      "  Iteration 10\t time lapse 2.93346s\t ll change 0.19745\n",
      "  Iteration 20\t time lapse 2.77952s\t ll change 0.01790\n",
      "  Iteration 30\t time lapse 2.68728s\t ll change 0.01665\n",
      "Initialization converged: True\t time lapse 11.50774s\t ll 6.89576\n",
      "Initialization 0\n",
      "  Iteration 0\t time lapse 0.61953s\t ll change inf\n",
      "  Iteration 10\t time lapse 2.75319s\t ll change 0.09623\n",
      "  Iteration 20\t time lapse 2.67590s\t ll change 0.04409\n",
      "  Iteration 30\t time lapse 2.65302s\t ll change 0.02011\n",
      "  Iteration 40\t time lapse 2.63484s\t ll change 0.00376\n",
      "  Iteration 50\t time lapse 2.62598s\t ll change 0.03007\n",
      "  Iteration 60\t time lapse 2.80038s\t ll change 0.00367\n",
      "Initialization converged: True\t time lapse 18.83252s\t ll 56.23885\n"
     ]
    }
   ],
   "source": [
    "gaussian_mixtures = []\n",
    "for i in range(0, 10):\n",
    "    gaussian_mixture = GaussianMixture(n_components=20, verbose=2)\n",
    "    gaussian_mixture.fit(train_images_pca1_sorted[i])\n",
    "    gaussian_mixtures.append(gaussian_mixture)"
   ]
  },
  {
   "cell_type": "code",
   "execution_count": 47,
   "metadata": {
    "collapsed": true
   },
   "outputs": [],
   "source": [
    "train_scores = []\n",
    "for i in range(0, 10):\n",
    "    train_scores.append(gaussian_mixtures[i].score_samples(train_images_pca1))"
   ]
  },
  {
   "cell_type": "code",
   "execution_count": 48,
   "metadata": {
    "collapsed": false
   },
   "outputs": [],
   "source": [
    "train_labels_predictions_log_probas = []\n",
    "for i in range(0, train_images_pca1.shape[0]):\n",
    "    scores = []\n",
    "    for j in range(0, 10):\n",
    "        scores.append(train_scores[j][i])\n",
    "    predicted_class = scores.index(max(scores))\n",
    "    train_labels_predictions_log_probas.append([train_set.labels[i], predicted_class, max(scores)])"
   ]
  },
  {
   "cell_type": "code",
   "execution_count": 49,
   "metadata": {
    "collapsed": false
   },
   "outputs": [],
   "source": [
    "train_false_positive_scores = []\n",
    "train_true_positive_scores = []\n",
    "for label, prediction, log_proba in train_labels_predictions_log_probas:\n",
    "    if label != prediction:\n",
    "        train_false_positive_scores.append(log_proba)\n",
    "    else:\n",
    "        train_true_positive_scores.append(log_proba)\n",
    "train_false_positive_scores = sorted(train_false_positive_scores)\n",
    "train_true_positive_scores = sorted(train_true_positive_scores)"
   ]
  },
  {
   "cell_type": "code",
   "execution_count": 65,
   "metadata": {
    "collapsed": false
   },
   "outputs": [
    {
     "name": "stdout",
     "output_type": "stream",
     "text": [
      "Populating the interactive namespace from numpy and matplotlib\n"
     ]
    },
    {
     "data": {
      "image/png": "[encoded data removed]",
      "text/plain": [
       "<matplotlib.figure.Figure at 0x7f1d73290048>"
      ]
     },
     "metadata": {},
     "output_type": "display_data"
    }
   ],
   "source": [
    "%pylab inline\n",
    "pylab.rcParams['figure.figsize'] = (18, 12)\n",
    "plt.hist(train_false_positive_scores, 50, normed=1, facecolor='red', alpha=0.75)\n",
    "plt.show()"
   ]
  },
  {
   "cell_type": "code",
   "execution_count": 64,
   "metadata": {
    "collapsed": false
   },
   "outputs": [
    {
     "name": "stdout",
     "output_type": "stream",
     "text": [
      "Populating the interactive namespace from numpy and matplotlib\n"
     ]
    },
    {
     "data": {
      "image/png": "[encoded data removed]",
      "text/plain": [
       "<matplotlib.figure.Figure at 0x7f1d732e1ba8>"
      ]
     },
     "metadata": {},
     "output_type": "display_data"
    }
   ],
   "source": [
    "%pylab inline\n",
    "pylab.rcParams['figure.figsize'] = (18, 12)\n",
    "plt.hist(train_true_positive_scores, 50, normed=1, facecolor='red', alpha=0.75)\n",
    "plt.show()"
   ]
  },
  {
   "cell_type": "code",
   "execution_count": 82,
   "metadata": {
    "collapsed": false
   },
   "outputs": [
    {
     "name": "stdout",
     "output_type": "stream",
     "text": [
      "Populating the interactive namespace from numpy and matplotlib\n"
     ]
    },
    {
     "data": {
      "image/png": "[encoded data removed]",
      "text/plain": [
       "<matplotlib.figure.Figure at 0x7f1d737f67f0>"
      ]
     },
     "metadata": {},
     "output_type": "display_data"
    }
   ],
   "source": [
    "%pylab inline\n",
    "pylab.rcParams['figure.figsize'] = (18, 12)\n",
    "\n",
    "min_log_proba_threshold = -100.0\n",
    "max_log_proba_threshold = 120.0\n",
    "n_tests = 100\n",
    "\n",
    "X = []\n",
    "Y = []\n",
    "\n",
    "for i in range(0, 100):\n",
    "    test_log_proba_threshold = min_log_proba_threshold + float(i)*(float(max_log_proba_threshold - min_log_proba_threshold)/float(n_tests))\n",
    "    test_train_false_positive_rate1 = float(sum(1 for score in train_false_positive_scores if score >= test_log_proba_threshold)) / float(train_set.images.shape[0])\n",
    "    X.append(test_log_proba_threshold)\n",
    "    Y.append(test_train_false_positive_rate1)\n",
    "    \n",
    "\n",
    "plt.plot(X, Y)\n",
    "plt.show()"
   ]
  },
  {
   "cell_type": "code",
   "execution_count": 83,
   "metadata": {
    "collapsed": false
   },
   "outputs": [
    {
     "name": "stdout",
     "output_type": "stream",
     "text": [
      "Populating the interactive namespace from numpy and matplotlib\n"
     ]
    },
    {
     "data": {
      "image/png": "[encoded data removed]",
      "text/plain": [
       "<matplotlib.figure.Figure at 0x7f1d73324400>"
      ]
     },
     "metadata": {},
     "output_type": "display_data"
    }
   ],
   "source": [
    "%pylab inline\n",
    "pylab.rcParams['figure.figsize'] = (18, 12)\n",
    "\n",
    "min_log_proba_threshold = -100.0\n",
    "max_log_proba_threshold = 120.0\n",
    "n_tests = 100\n",
    "\n",
    "X = []\n",
    "Y = []\n",
    "\n",
    "for i in range(0, 100):\n",
    "    test_log_proba_threshold = min_log_proba_threshold + float(i)*(float(max_log_proba_threshold - min_log_proba_threshold)/float(n_tests))\n",
    "    n_unclassified_train_images1 = sum(1 for label, prediction, log_proba in train_labels_predictions_log_probas if log_proba < test_log_proba_threshold)\n",
    "    n_classified_train_images1 = train_set.images.shape[0] - n_unclassified_train_images1\n",
    "    \n",
    "    n_classified_ratio = float(n_classified_train_images1) / float(n_unclassified_train_images1 + n_classified_train_images1)\n",
    "    \n",
    "    X.append(test_log_proba_threshold)\n",
    "    Y.append(n_classified_ratio)\n",
    "    \n",
    "\n",
    "plt.plot(X, Y)\n",
    "plt.show()"
   ]
  },
  {
   "cell_type": "code",
   "execution_count": 104,
   "metadata": {
    "collapsed": true
   },
   "outputs": [],
   "source": [
    "log_proba_threshold = 70.0"
   ]
  },
  {
   "cell_type": "code",
   "execution_count": 105,
   "metadata": {
    "collapsed": true
   },
   "outputs": [],
   "source": [
    "train_false_positive_rate1 = float(sum(1 for score in train_false_positive_scores if score >= log_proba_threshold)) / float(train_set.images.shape[0])"
   ]
  },
  {
   "cell_type": "code",
   "execution_count": 106,
   "metadata": {
    "collapsed": false
   },
   "outputs": [
    {
     "name": "stdout",
     "output_type": "stream",
     "text": [
      "0.00032727272727272726\n"
     ]
    }
   ],
   "source": [
    "print(false_positive_rate1)"
   ]
  },
  {
   "cell_type": "code",
   "execution_count": 107,
   "metadata": {
    "collapsed": false
   },
   "outputs": [],
   "source": [
    "n_unclassified_train_images1 = sum(1 for label, prediction, log_proba in train_labels_predictions_log_probas if log_proba < log_proba_threshold)\n",
    "n_classified_train_images1 = train_set.images.shape[0] - n_unclassified_train_images1"
   ]
  },
  {
   "cell_type": "code",
   "execution_count": 108,
   "metadata": {
    "collapsed": false
   },
   "outputs": [
    {
     "name": "stdout",
     "output_type": "stream",
     "text": [
      "42376\n"
     ]
    }
   ],
   "source": [
    "print(n_unclassified_train_images1)"
   ]
  },
  {
   "cell_type": "code",
   "execution_count": 109,
   "metadata": {
    "collapsed": false
   },
   "outputs": [
    {
     "name": "stdout",
     "output_type": "stream",
     "text": [
      "12624\n"
     ]
    }
   ],
   "source": [
    "print(n_classified_train_images1)"
   ]
  },
  {
   "cell_type": "code",
   "execution_count": 110,
   "metadata": {
    "collapsed": false
   },
   "outputs": [],
   "source": [
    "unclassified_train_set_images1 = np.zeros((n_unclassified_train_images1, 784))\n",
    "unclassified_train_set_labels = []\n",
    "\n",
    "k = 0\n",
    "for i in range(0, train_set.images.shape[0]):\n",
    "    if train_labels_predictions_log_probas[i][2] < log_proba_threshold:\n",
    "        unclassified_train_set_images1[k, :] = train_set.images[i, :]\n",
    "        unclassified_train_set_labels.append(train_set.labels[i])\n",
    "        k += 1"
   ]
  },
  {
   "cell_type": "code",
   "execution_count": 111,
   "metadata": {
    "collapsed": false
   },
   "outputs": [
    {
     "data": {
      "text/plain": [
       "PCA(copy=True, iterated_power='auto', n_components=100, random_state=None,\n",
       "  svd_solver='auto', tol=0.0, whiten=False)"
      ]
     },
     "execution_count": 111,
     "metadata": {},
     "output_type": "execute_result"
    }
   ],
   "source": [
    "pca2 = PCA(n_components=100)\n",
    "pca2.fit(unclassified_train_set_images1)"
   ]
  },
  {
   "cell_type": "code",
   "execution_count": 112,
   "metadata": {
    "collapsed": true
   },
   "outputs": [],
   "source": [
    "train_images_pca2 = pca2.transform(unclassified_train_set_images1)"
   ]
  },
  {
   "cell_type": "code",
   "execution_count": 161,
   "metadata": {
    "collapsed": false
   },
   "outputs": [],
   "source": [
    "random_forest = RandomForestClassifier(n_estimators=20)\n",
    "random_forest = random_forest.fit(train_images_pca2, unclassified_train_set_labels)"
   ]
  },
  {
   "cell_type": "code",
   "execution_count": 162,
   "metadata": {
    "collapsed": false
   },
   "outputs": [],
   "source": [
    "train_scores = random_forest.predict_proba(train_images_pca2)"
   ]
  },
  {
   "cell_type": "code",
   "execution_count": 163,
   "metadata": {
    "collapsed": false
   },
   "outputs": [],
   "source": [
    "train_labels_predictions_probas = []\n",
    "for i in range(0, train_images_pca2.shape[0]):\n",
    "    scores = []\n",
    "    for j in range(0, 10):\n",
    "        scores.append(train_scores[i][j])\n",
    "    predicted_class = scores.index(max(scores))\n",
    "    train_labels_predictions_probas.append([unclassified_train_set_labels[i], predicted_class, max(scores)])"
   ]
  },
  {
   "cell_type": "code",
   "execution_count": 164,
   "metadata": {
    "collapsed": true
   },
   "outputs": [],
   "source": [
    "train_false_positive_scores = []\n",
    "train_true_positive_scores = []\n",
    "for label, prediction, proba in train_labels_predictions_probas:\n",
    "    if label != prediction:\n",
    "        train_false_positive_scores.append(proba)\n",
    "    else:\n",
    "        train_true_positive_scores.append(proba)\n",
    "train_false_positive_scores = sorted(train_false_positive_scores)\n",
    "train_true_positive_scores = sorted(train_true_positive_scores)"
   ]
  },
  {
   "cell_type": "code",
   "execution_count": 165,
   "metadata": {
    "collapsed": false
   },
   "outputs": [
    {
     "name": "stdout",
     "output_type": "stream",
     "text": [
      "Populating the interactive namespace from numpy and matplotlib\n"
     ]
    },
    {
     "data": {
      "image/png": "[encoded data removed]",
      "text/plain": [
       "<matplotlib.figure.Figure at 0x7f1d77b11a58>"
      ]
     },
     "metadata": {},
     "output_type": "display_data"
    }
   ],
   "source": [
    "%pylab inline\n",
    "pylab.rcParams['figure.figsize'] = (18, 12)\n",
    "plt.hist(train_false_positive_scores, 10, normed=1, facecolor='red', alpha=0.75)\n",
    "plt.show()"
   ]
  },
  {
   "cell_type": "code",
   "execution_count": 167,
   "metadata": {
    "collapsed": false
   },
   "outputs": [
    {
     "name": "stdout",
     "output_type": "stream",
     "text": [
      "Populating the interactive namespace from numpy and matplotlib\n"
     ]
    },
    {
     "data": {
      "image/png": "[encoded data removed]",
      "text/plain": [
       "<matplotlib.figure.Figure at 0x7f1d733d3a20>"
      ]
     },
     "metadata": {},
     "output_type": "display_data"
    }
   ],
   "source": [
    "%pylab inline\n",
    "pylab.rcParams['figure.figsize'] = (18, 12)\n",
    "plt.hist(train_true_positive_scores, 10, normed=1, facecolor='red', alpha=0.75)\n",
    "plt.show()"
   ]
  },
  {
   "cell_type": "code",
   "execution_count": null,
   "metadata": {
    "collapsed": true
   },
   "outputs": [],
   "source": []
  }
 ],
 "metadata": {
  "kernelspec": {
   "display_name": "Python 3",
   "language": "python",
   "name": "python3"
  },
  "language_info": {
   "codemirror_mode": {
    "name": "ipython",
    "version": 3
   },
   "file_extension": ".py",
   "mimetype": "text/x-python",
   "name": "python",
   "nbconvert_exporter": "python",
   "pygments_lexer": "ipython3",
   "version": "3.5.0"
  },
  "widgets": {
   "state": {},
   "version": "1.1.2"
  }
 },
 "nbformat": 4,
 "nbformat_minor": 2
}
