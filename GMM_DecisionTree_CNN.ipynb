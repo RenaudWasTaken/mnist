{
 "cells": [
  {
   "cell_type": "code",
   "execution_count": 2,
   "metadata": {
    "collapsed": false
   },
   "outputs": [
    {
     "name": "stdout",
     "output_type": "stream",
     "text": [
      "The autoreload extension is already loaded. To reload it, use:\n",
      "  %reload_ext autoreload\n"
     ]
    }
   ],
   "source": [
    "%load_ext autoreload"
   ]
  },
  {
   "cell_type": "code",
   "execution_count": 3,
   "metadata": {
    "collapsed": true
   },
   "outputs": [],
   "source": [
    "import src.mnist"
   ]
  },
  {
   "cell_type": "code",
   "execution_count": 4,
   "metadata": {
    "collapsed": true
   },
   "outputs": [],
   "source": [
    "import matplotlib.pyplot as plt\n",
    "import numpy as np\n",
    "from sklearn.decomposition import PCA\n",
    "from sklearn.mixture import GaussianMixture\n",
    "from sklearn import tree\n",
    "from sklearn.ensemble import RandomForestClassifier"
   ]
  },
  {
   "cell_type": "code",
   "execution_count": 9,
   "metadata": {
    "collapsed": false
   },
   "outputs": [
    {
     "name": "stdout",
     "output_type": "stream",
     "text": [
      "Extracting /tmp/data/train-images-idx3-ubyte.gz\n",
      "Extracting /tmp/data/train-labels-idx1-ubyte.gz\n",
      "Extracting /tmp/data/t10k-images-idx3-ubyte.gz\n",
      "Extracting /tmp/data/t10k-labels-idx1-ubyte.gz\n",
      "MNIST(N=55000, dataset=\"train\", labels=(55000,), images=(55000, 784), PCA=False, KMeans=False)\n",
      "Extracting /tmp/data/train-images-idx3-ubyte.gz\n",
      "Extracting /tmp/data/train-labels-idx1-ubyte.gz\n",
      "Extracting /tmp/data/t10k-images-idx3-ubyte.gz\n",
      "Extracting /tmp/data/t10k-labels-idx1-ubyte.gz\n",
      "MNIST(N=10000, dataset=\"test\", labels=(10000,), images=(10000, 784), PCA=False, KMeans=False)\n",
      "Extracting /tmp/data/train-images-idx3-ubyte.gz\n",
      "Extracting /tmp/data/train-labels-idx1-ubyte.gz\n",
      "Extracting /tmp/data/t10k-images-idx3-ubyte.gz\n",
      "Extracting /tmp/data/t10k-labels-idx1-ubyte.gz\n"
     ]
    }
   ],
   "source": [
    "train_set, test_set, validation_set = src.mnist.get_mnist_full()"
   ]
  },
  {
   "cell_type": "code",
   "execution_count": 10,
   "metadata": {
    "collapsed": false
   },
   "outputs": [
    {
     "data": {
      "text/plain": [
       "PCA(copy=True, iterated_power='auto', n_components=100, random_state=None,\n",
       "  svd_solver='auto', tol=0.0, whiten=False)"
      ]
     },
     "execution_count": 10,
     "metadata": {},
     "output_type": "execute_result"
    }
   ],
   "source": [
    "pca1 = PCA(n_components=100)\n",
    "pca1.fit(train_set.images)"
   ]
  },
  {
   "cell_type": "code",
   "execution_count": 11,
   "metadata": {
    "collapsed": false
   },
   "outputs": [],
   "source": [
    "train_images_pca1 = pca1.transform(train_set.images)\n",
    "validation_images_pca1 = pca1.transform(validation_set.images)"
   ]
  },
  {
   "cell_type": "code",
   "execution_count": 14,
   "metadata": {
    "collapsed": false
   },
   "outputs": [],
   "source": [
    "train_counter = np.bincount(train_set.labels)\n",
    "validation_counter = np.bincount(validation_set.labels)\n",
    "train_images_pca1_sorted = []\n",
    "validation_images_pca1_sorted = []\n",
    "\n",
    "for i in range(0, 10):\n",
    "    local_train_images_pca = np.zeros((train_counter[i], 100))\n",
    "    local_validation_images_pca = np.zeros((validation_counter[i], 100))\n",
    "    \n",
    "    k = 0\n",
    "    for j in range(0, train_set.images.shape[0]):\n",
    "        if train_set.labels[j] == i:\n",
    "            local_train_images_pca[k, :] = train_images_pca1[j]\n",
    "            k += 1\n",
    "    \n",
    "    train_images_pca1_sorted.append(local_train_images_pca)\n",
    "            \n",
    "    k = 0\n",
    "    for j in range(0, validation_set.images.shape[0]):\n",
    "        if validation_set.labels[j] == i:\n",
    "            local_validation_images_pca[k, :] = validation_images_pca1[j]\n",
    "            k += 1\n",
    "    \n",
    "    validation_images_pca1_sorted.append(local_validation_images_pca)"
   ]
  },
  {
   "cell_type": "code",
   "execution_count": 15,
   "metadata": {
    "collapsed": false
   },
   "outputs": [
    {
     "name": "stdout",
     "output_type": "stream",
     "text": [
      "Initialization 0\n",
      "  Iteration 0\t time lapse 0.54016s\t ll change inf\n",
      "  Iteration 10\t time lapse 2.29190s\t ll change 0.00765\n",
      "Initialization converged: True\t time lapse 4.52281s\t ll 20.23671\n",
      "Initialization 0\n",
      "  Iteration 0\t time lapse 0.61608s\t ll change inf\n",
      "  Iteration 10\t time lapse 2.67275s\t ll change 0.42356\n",
      "  Iteration 20\t time lapse 2.60614s\t ll change 0.25072\n",
      "  Iteration 30\t time lapse 2.74449s\t ll change 0.00649\n",
      "  Iteration 40\t time lapse 2.67312s\t ll change 0.00963\n",
      "Initialization converged: True\t time lapse 12.66072s\t ll 202.26080\n",
      "Initialization 0\n",
      "  Iteration 0\t time lapse 0.55766s\t ll change inf\n",
      "  Iteration 10\t time lapse 2.57148s\t ll change 0.01613\n",
      "  Iteration 20\t time lapse 2.65224s\t ll change 0.00341\n",
      "Initialization converged: True\t time lapse 8.09248s\t ll 0.62530\n",
      "Initialization 0\n",
      "  Iteration 0\t time lapse 0.73048s\t ll change inf\n",
      "  Iteration 10\t time lapse 4.11551s\t ll change 0.02879\n",
      "  Iteration 20\t time lapse 3.51102s\t ll change 0.02080\n",
      "Initialization converged: True\t time lapse 9.57200s\t ll 4.23397\n",
      "Initialization 0\n",
      "  Iteration 0\t time lapse 0.65419s\t ll change inf\n",
      "  Iteration 10\t time lapse 2.94137s\t ll change 0.00005\n",
      "Initialization converged: True\t time lapse 3.59597s\t ll 25.80591\n",
      "Initialization 0\n",
      "  Iteration 0\t time lapse 0.56059s\t ll change inf\n",
      "  Iteration 10\t time lapse 2.69369s\t ll change 0.05885\n",
      "Initialization converged: True\t time lapse 5.71193s\t ll 16.20105\n",
      "Initialization 0\n",
      "  Iteration 0\t time lapse 0.63669s\t ll change inf\n",
      "  Iteration 10\t time lapse 2.89761s\t ll change 0.12416\n",
      "  Iteration 20\t time lapse 2.85436s\t ll change 0.01573\n",
      "  Iteration 30\t time lapse 5.21745s\t ll change 0.01770\n",
      "Initialization converged: True\t time lapse 12.24707s\t ll 53.06572\n",
      "Initialization 0\n",
      "  Iteration 0\t time lapse 1.23405s\t ll change inf\n",
      "  Iteration 10\t time lapse 6.13858s\t ll change 0.29347\n",
      "  Iteration 20\t time lapse 6.38262s\t ll change 0.09206\n",
      "  Iteration 30\t time lapse 6.08586s\t ll change 0.00691\n",
      "  Iteration 40\t time lapse 6.00536s\t ll change 0.00155\n",
      "Initialization converged: True\t time lapse 28.67400s\t ll 62.37216\n",
      "Initialization 0\n",
      "  Iteration 0\t time lapse 1.08700s\t ll change inf\n",
      "  Iteration 10\t time lapse 5.51258s\t ll change 0.20280\n",
      "  Iteration 20\t time lapse 4.87958s\t ll change 0.03874\n",
      "Initialization converged: True\t time lapse 15.50105s\t ll 7.26242\n",
      "Initialization 0\n",
      "  Iteration 0\t time lapse 1.10272s\t ll change inf\n",
      "  Iteration 10\t time lapse 5.61998s\t ll change 0.05378\n",
      "  Iteration 20\t time lapse 6.33101s\t ll change 0.05983\n",
      "  Iteration 30\t time lapse 5.06215s\t ll change 0.05804\n",
      "  Iteration 40\t time lapse 5.45843s\t ll change 0.00437\n",
      "  Iteration 50\t time lapse 5.59978s\t ll change 0.00376\n",
      "Initialization converged: True\t time lapse 31.85599s\t ll 61.55740\n"
     ]
    }
   ],
   "source": [
    "gaussian_mixtures = []\n",
    "for i in range(0, 10):\n",
    "    gaussian_mixture = GaussianMixture(n_components=20, verbose=2)\n",
    "    gaussian_mixture.fit(train_images_pca1_sorted[i])\n",
    "    gaussian_mixtures.append(gaussian_mixture)"
   ]
  },
  {
   "cell_type": "code",
   "execution_count": 159,
   "metadata": {
    "collapsed": true
   },
   "outputs": [],
   "source": [
    "train_scores = []\n",
    "for i in range(0, 10):\n",
    "    train_scores.append(gaussian_mixtures[i].score_samples(train_images_pca1))"
   ]
  },
  {
   "cell_type": "code",
   "execution_count": 160,
   "metadata": {
    "collapsed": true
   },
   "outputs": [],
   "source": [
    "validation_scores = []\n",
    "for i in range(0, 10):\n",
    "    validation_scores.append(gaussian_mixtures[i].score_samples(validation_images_pca1))"
   ]
  },
  {
   "cell_type": "code",
   "execution_count": 161,
   "metadata": {
    "collapsed": false
   },
   "outputs": [],
   "source": [
    "train_labels_predictions_log_probas = []\n",
    "for i in range(0, train_images_pca1.shape[0]):\n",
    "    scores = []\n",
    "    for j in range(0, 10):\n",
    "        scores.append(train_scores[j][i])\n",
    "    predicted_class = scores.index(max(scores))\n",
    "    train_labels_predictions_log_probas.append([train_set.labels[i], predicted_class, max(scores)])"
   ]
  },
  {
   "cell_type": "code",
   "execution_count": 162,
   "metadata": {
    "collapsed": true
   },
   "outputs": [],
   "source": [
    "validation_labels_predictions_log_probas = []\n",
    "for i in range(0, validation_images_pca1.shape[0]):\n",
    "    scores = []\n",
    "    for j in range(0, 10):\n",
    "        scores.append(validation_scores[j][i])\n",
    "    predicted_class = scores.index(max(scores))\n",
    "    validation_labels_predictions_log_probas.append([validation_set.labels[i], predicted_class, max(scores)])"
   ]
  },
  {
   "cell_type": "code",
   "execution_count": 163,
   "metadata": {
    "collapsed": false
   },
   "outputs": [],
   "source": [
    "train_false_positive_scores = []\n",
    "train_true_positive_scores = []\n",
    "for label, prediction, log_proba in train_labels_predictions_log_probas:\n",
    "    if label != prediction:\n",
    "        train_false_positive_scores.append(log_proba)\n",
    "    else:\n",
    "        train_true_positive_scores.append(log_proba)\n",
    "train_false_positive_scores = sorted(train_false_positive_scores)\n",
    "train_true_positive_scores = sorted(train_true_positive_scores)"
   ]
  },
  {
   "cell_type": "code",
   "execution_count": 164,
   "metadata": {
    "collapsed": true
   },
   "outputs": [],
   "source": [
    "validation_false_positive_scores = []\n",
    "validation_true_positive_scores = []\n",
    "for label, prediction, log_proba in validation_labels_predictions_log_probas:\n",
    "    if label != prediction:\n",
    "        validation_false_positive_scores.append(log_proba)\n",
    "    else:\n",
    "        validation_true_positive_scores.append(log_proba)\n",
    "validation_false_positive_scores = sorted(validation_false_positive_scores)\n",
    "validation_true_positive_scores = sorted(validation_true_positive_scores)"
   ]
  },
  {
   "cell_type": "code",
   "execution_count": 165,
   "metadata": {
    "collapsed": false
   },
   "outputs": [
    {
     "name": "stdout",
     "output_type": "stream",
     "text": [
      "Populating the interactive namespace from numpy and matplotlib\n"
     ]
    },
    {
     "data": {
      "image/png": "[encoded data removed]",
      "text/plain": [
       "<matplotlib.figure.Figure at 0x7efdebff8eb8>"
      ]
     },
     "metadata": {},
     "output_type": "display_data"
    }
   ],
   "source": [
    "%pylab inline\n",
    "pylab.rcParams['figure.figsize'] = (18, 12)\n",
    "plt.hist(validation_false_positive_scores, 25, normed=1, facecolor='red', alpha=0.75)\n",
    "plt.show()"
   ]
  },
  {
   "cell_type": "code",
   "execution_count": 166,
   "metadata": {
    "collapsed": false
   },
   "outputs": [
    {
     "name": "stdout",
     "output_type": "stream",
     "text": [
      "Populating the interactive namespace from numpy and matplotlib\n"
     ]
    },
    {
     "data": {
      "image/png": "[encoded data removed]",
      "text/plain": [
       "<matplotlib.figure.Figure at 0x7efdec50f438>"
      ]
     },
     "metadata": {},
     "output_type": "display_data"
    }
   ],
   "source": [
    "%pylab inline\n",
    "pylab.rcParams['figure.figsize'] = (18, 12)\n",
    "plt.hist(validation_true_positive_scores, 50, normed=1, facecolor='red', alpha=0.75)\n",
    "plt.show()"
   ]
  },
  {
   "cell_type": "code",
   "execution_count": 167,
   "metadata": {
    "collapsed": false
   },
   "outputs": [
    {
     "name": "stdout",
     "output_type": "stream",
     "text": [
      "Populating the interactive namespace from numpy and matplotlib\n"
     ]
    },
    {
     "data": {
      "image/png": "[encoded data removed]",
      "text/plain": [
       "<matplotlib.figure.Figure at 0x7efdec6b2160>"
      ]
     },
     "metadata": {},
     "output_type": "display_data"
    }
   ],
   "source": [
    "%pylab inline\n",
    "pylab.rcParams['figure.figsize'] = (18, 12)\n",
    "\n",
    "min_log_proba_threshold = -150.0\n",
    "max_log_proba_threshold = 150.0\n",
    "n_tests = 100\n",
    "\n",
    "X = []\n",
    "Y = []\n",
    "\n",
    "for i in range(0, 100):\n",
    "    test_log_proba_threshold = min_log_proba_threshold + float(i)*(float(max_log_proba_threshold - min_log_proba_threshold)/float(n_tests))\n",
    "    test_validation_false_positive_rate1 = float(sum(1 for score in validation_false_positive_scores if score >= test_log_proba_threshold)) / float(validation_set.images.shape[0])\n",
    "    X.append(test_log_proba_threshold)\n",
    "    Y.append(test_validation_false_positive_rate1)\n",
    "    \n",
    "\n",
    "plt.plot(X, Y)\n",
    "plt.show()"
   ]
  },
  {
   "cell_type": "code",
   "execution_count": 168,
   "metadata": {
    "collapsed": false
   },
   "outputs": [
    {
     "name": "stdout",
     "output_type": "stream",
     "text": [
      "Populating the interactive namespace from numpy and matplotlib\n"
     ]
    },
    {
     "data": {
      "image/png": "[encoded data removed]",
      "text/plain": [
       "<matplotlib.figure.Figure at 0x7efdebff87f0>"
      ]
     },
     "metadata": {},
     "output_type": "display_data"
    }
   ],
   "source": [
    "%pylab inline\n",
    "pylab.rcParams['figure.figsize'] = (18, 12)\n",
    "\n",
    "min_log_proba_threshold = -150.0\n",
    "max_log_proba_threshold = 150.0\n",
    "n_tests = 100\n",
    "\n",
    "X = []\n",
    "Y = []\n",
    "\n",
    "for i in range(0, 100):\n",
    "    test_log_proba_threshold = min_log_proba_threshold + float(i)*(float(max_log_proba_threshold - min_log_proba_threshold)/float(n_tests))\n",
    "    n_unclassified_validation_images1 = sum(1 for label, prediction, log_proba in validation_labels_predictions_log_probas if log_proba < test_log_proba_threshold)\n",
    "    n_classified_validation_images1 = validation_set.images.shape[0] - n_unclassified_validation_images1\n",
    "    \n",
    "    n_classified_ratio = float(n_classified_validation_images1) / float(n_unclassified_validation_images1 + n_classified_validation_images1)\n",
    "    \n",
    "    X.append(test_log_proba_threshold)\n",
    "    Y.append(n_classified_ratio)\n",
    "    \n",
    "\n",
    "plt.plot(X, Y)\n",
    "plt.show()"
   ]
  },
  {
   "cell_type": "code",
   "execution_count": 169,
   "metadata": {
    "collapsed": true
   },
   "outputs": [],
   "source": [
    "log_proba_threshold = 50.0"
   ]
  },
  {
   "cell_type": "code",
   "execution_count": 170,
   "metadata": {
    "collapsed": true
   },
   "outputs": [],
   "source": [
    "validation_false_positive_rate1 = float(sum(1 for score in validation_false_positive_scores if score >= log_proba_threshold)) / float(validation_set.images.shape[0])\n",
    "n_unclassified_validation_images1 = sum(1 for label, prediction, log_proba in validation_labels_predictions_log_probas if log_proba < test_log_proba_threshold)\n",
    "n_classified_validation_images1 = validation_set.images.shape[0] - n_unclassified_validation_images1\n",
    "n_classified_ratio = float(n_classified_validation_images1) / float(n_unclassified_validation_images1 + n_classified_validation_images1)"
   ]
  },
  {
   "cell_type": "code",
   "execution_count": 171,
   "metadata": {
    "collapsed": false
   },
   "outputs": [
    {
     "name": "stdout",
     "output_type": "stream",
     "text": [
      "0.0004\n"
     ]
    }
   ],
   "source": [
    "print(validation_false_positive_rate1)"
   ]
  },
  {
   "cell_type": "code",
   "execution_count": 172,
   "metadata": {
    "collapsed": false
   },
   "outputs": [
    {
     "name": "stdout",
     "output_type": "stream",
     "text": [
      "0.0764\n"
     ]
    }
   ],
   "source": [
    "print(n_classified_ratio)"
   ]
  },
  {
   "cell_type": "code",
   "execution_count": 173,
   "metadata": {
    "collapsed": false
   },
   "outputs": [],
   "source": [
    "n_unclassified_train_images1 = sum(1 for label, prediction, log_proba in train_labels_predictions_log_probas if log_proba < log_proba_threshold)\n",
    "n_classified_train_images1 = train_set.images.shape[0] - n_unclassified_train_images1\n",
    "\n",
    "n_unclassified_validation_images1 = sum(1 for label, prediction, log_proba in validation_labels_predictions_log_probas if log_proba < log_proba_threshold)\n",
    "n_classified_validation_images1 = validation_set.images.shape[0] - n_unclassified_validation_images1"
   ]
  },
  {
   "cell_type": "code",
   "execution_count": 174,
   "metadata": {
    "collapsed": false
   },
   "outputs": [
    {
     "name": "stdout",
     "output_type": "stream",
     "text": [
      "36697\n"
     ]
    }
   ],
   "source": [
    "print(n_unclassified_train_images1)"
   ]
  },
  {
   "cell_type": "code",
   "execution_count": 175,
   "metadata": {
    "collapsed": false
   },
   "outputs": [
    {
     "name": "stdout",
     "output_type": "stream",
     "text": [
      "18303\n"
     ]
    }
   ],
   "source": [
    "print(n_classified_train_images1)"
   ]
  },
  {
   "cell_type": "code",
   "execution_count": 176,
   "metadata": {
    "collapsed": false
   },
   "outputs": [
    {
     "name": "stdout",
     "output_type": "stream",
     "text": [
      "3763\n"
     ]
    }
   ],
   "source": [
    "print(n_unclassified_validation_images1)"
   ]
  },
  {
   "cell_type": "code",
   "execution_count": 177,
   "metadata": {
    "collapsed": false
   },
   "outputs": [
    {
     "name": "stdout",
     "output_type": "stream",
     "text": [
      "1237\n"
     ]
    }
   ],
   "source": [
    "print(n_classified_validation_images1)"
   ]
  },
  {
   "cell_type": "code",
   "execution_count": 178,
   "metadata": {
    "collapsed": false
   },
   "outputs": [],
   "source": [
    "unclassified_train_set_images1 = np.zeros((n_unclassified_train_images1, 784))\n",
    "unclassified_train_set_labels = []\n",
    "\n",
    "k = 0\n",
    "for i in range(0, train_set.images.shape[0]):\n",
    "    if train_labels_predictions_log_probas[i][2] < log_proba_threshold:\n",
    "        unclassified_train_set_images1[k, :] = train_set.images[i, :]\n",
    "        unclassified_train_set_labels.append(train_set.labels[i])\n",
    "        k += 1\n",
    "        \n",
    "        \n",
    "unclassified_validation_set_images1 = np.zeros((n_unclassified_validation_images1, 784))\n",
    "unclassified_validation_set_labels = []\n",
    "\n",
    "k = 0\n",
    "for i in range(0, validation_set.images.shape[0]):\n",
    "    if validation_labels_predictions_log_probas[i][2] < log_proba_threshold:\n",
    "        unclassified_validation_set_images1[k, :] = validation_set.images[i, :]\n",
    "        unclassified_validation_set_labels.append(validation_set.labels[i])\n",
    "        k += 1"
   ]
  },
  {
   "cell_type": "code",
   "execution_count": 179,
   "metadata": {
    "collapsed": false
   },
   "outputs": [
    {
     "data": {
      "text/plain": [
       "PCA(copy=True, iterated_power='auto', n_components=100, random_state=None,\n",
       "  svd_solver='auto', tol=0.0, whiten=False)"
      ]
     },
     "execution_count": 179,
     "metadata": {},
     "output_type": "execute_result"
    }
   ],
   "source": [
    "pca2 = PCA(n_components=100)\n",
    "pca2.fit(unclassified_train_set_images1)"
   ]
  },
  {
   "cell_type": "code",
   "execution_count": 180,
   "metadata": {
    "collapsed": true
   },
   "outputs": [],
   "source": [
    "train_images_pca2 = pca2.transform(unclassified_train_set_images1)\n",
    "validation_images_pca2 = pca2.transform(unclassified_validation_set_images1)"
   ]
  },
  {
   "cell_type": "code",
   "execution_count": 181,
   "metadata": {
    "collapsed": false
   },
   "outputs": [],
   "source": [
    "random_forest = RandomForestClassifier(n_estimators=40)\n",
    "random_forest = random_forest.fit(train_images_pca2, unclassified_train_set_labels)"
   ]
  },
  {
   "cell_type": "code",
   "execution_count": 182,
   "metadata": {
    "collapsed": false
   },
   "outputs": [],
   "source": [
    "train_scores = random_forest.predict_proba(train_images_pca2)\n",
    "validation_scores = random_forest.predict_proba(validation_images_pca2)"
   ]
  },
  {
   "cell_type": "code",
   "execution_count": 183,
   "metadata": {
    "collapsed": false
   },
   "outputs": [],
   "source": [
    "train_labels_predictions_probas = []\n",
    "for i in range(0, train_images_pca2.shape[0]):\n",
    "    scores = []\n",
    "    for j in range(0, 10):\n",
    "        scores.append(train_scores[i][j])\n",
    "    predicted_class = scores.index(max(scores))\n",
    "    train_labels_predictions_probas.append([unclassified_train_set_labels[i], predicted_class, max(scores)])\n",
    "    \n",
    "    \n",
    "validation_labels_predictions_probas = []\n",
    "for i in range(0, validation_images_pca2.shape[0]):\n",
    "    scores = []\n",
    "    for j in range(0, 10):\n",
    "        scores.append(validation_scores[i][j])\n",
    "    predicted_class = scores.index(max(scores))\n",
    "    validation_labels_predictions_probas.append([unclassified_validation_set_labels[i], predicted_class, max(scores)])"
   ]
  },
  {
   "cell_type": "code",
   "execution_count": 184,
   "metadata": {
    "collapsed": true
   },
   "outputs": [],
   "source": [
    "train_false_positive_scores = []\n",
    "train_true_positive_scores = []\n",
    "for label, prediction, proba in train_labels_predictions_probas:\n",
    "    if label != prediction:\n",
    "        train_false_positive_scores.append(proba)\n",
    "    else:\n",
    "        train_true_positive_scores.append(proba)\n",
    "train_false_positive_scores = sorted(train_false_positive_scores)\n",
    "train_true_positive_scores = sorted(train_true_positive_scores)\n",
    "\n",
    "\n",
    "validation_false_positive_scores = []\n",
    "validation_true_positive_scores = []\n",
    "for label, prediction, proba in validation_labels_predictions_probas:\n",
    "    if label != prediction:\n",
    "        validation_false_positive_scores.append(proba)\n",
    "    else:\n",
    "        validation_true_positive_scores.append(proba)\n",
    "validation_false_positive_scores = sorted(validation_false_positive_scores)\n",
    "validation_true_positive_scores = sorted(validation_true_positive_scores)"
   ]
  },
  {
   "cell_type": "code",
   "execution_count": 195,
   "metadata": {
    "collapsed": false
   },
   "outputs": [
    {
     "name": "stdout",
     "output_type": "stream",
     "text": [
      "Populating the interactive namespace from numpy and matplotlib\n"
     ]
    },
    {
     "data": {
      "image/png": "[encoded data removed]",
      "text/plain": [
       "<matplotlib.figure.Figure at 0x7efdeca8a048>"
      ]
     },
     "metadata": {},
     "output_type": "display_data"
    }
   ],
   "source": [
    "%pylab inline\n",
    "pylab.rcParams['figure.figsize'] = (18, 12)\n",
    "plt.hist(validation_false_positive_scores, 20, normed=1, facecolor='red', alpha=0.75)\n",
    "plt.show()"
   ]
  },
  {
   "cell_type": "code",
   "execution_count": 196,
   "metadata": {
    "collapsed": false
   },
   "outputs": [
    {
     "name": "stdout",
     "output_type": "stream",
     "text": [
      "Populating the interactive namespace from numpy and matplotlib\n"
     ]
    },
    {
     "data": {
      "image/png": "[encoded data removed]",
      "text/plain": [
       "<matplotlib.figure.Figure at 0x7efdecc1bc18>"
      ]
     },
     "metadata": {},
     "output_type": "display_data"
    }
   ],
   "source": [
    "%pylab inline\n",
    "pylab.rcParams['figure.figsize'] = (18, 12)\n",
    "plt.hist(validation_true_positive_scores, 15, normed=1, facecolor='red', alpha=0.75)\n",
    "plt.show()"
   ]
  },
  {
   "cell_type": "code",
   "execution_count": 221,
   "metadata": {
    "collapsed": false
   },
   "outputs": [
    {
     "name": "stdout",
     "output_type": "stream",
     "text": [
      "Populating the interactive namespace from numpy and matplotlib\n"
     ]
    },
    {
     "data": {
      "image/png": "[encoded data removed]",
      "text/plain": [
       "<matplotlib.figure.Figure at 0x7efdebe4c7f0>"
      ]
     },
     "metadata": {},
     "output_type": "display_data"
    }
   ],
   "source": [
    "%pylab inline\n",
    "pylab.rcParams['figure.figsize'] = (18, 12)\n",
    "\n",
    "min_proba_threshold = 0.0\n",
    "max_proba_threshold = 1.0\n",
    "n_tests = 100\n",
    "\n",
    "X = []\n",
    "Y = []\n",
    "\n",
    "for i in range(0, 100):\n",
    "    test_proba_threshold = min_proba_threshold + float(i)*(float(max_proba_threshold - min_proba_threshold)/float(n_tests))\n",
    "    test_validation_false_positive_rate2 = float(sum(1 for score in validation_false_positive_scores if score >= test_proba_threshold)) / float(validation_images_pca2.shape[0])\n",
    "    X.append(test_proba_threshold)\n",
    "    Y.append(test_validation_false_positive_rate2)\n",
    "    \n",
    "\n",
    "plt.plot(X, Y)\n",
    "plt.show()"
   ]
  },
  {
   "cell_type": "code",
   "execution_count": 222,
   "metadata": {
    "collapsed": false
   },
   "outputs": [
    {
     "name": "stdout",
     "output_type": "stream",
     "text": [
      "Populating the interactive namespace from numpy and matplotlib\n"
     ]
    },
    {
     "data": {
      "image/png": "[encoded data removed]",
      "text/plain": [
       "<matplotlib.figure.Figure at 0x7efdebb2e320>"
      ]
     },
     "metadata": {},
     "output_type": "display_data"
    }
   ],
   "source": [
    "%pylab inline\n",
    "pylab.rcParams['figure.figsize'] = (18, 12)\n",
    "\n",
    "min_proba_threshold = 0.0\n",
    "max_proba_threshold = 1.0\n",
    "n_tests = 100\n",
    "\n",
    "X = []\n",
    "Y = []\n",
    "\n",
    "for i in range(0, 100):\n",
    "    test_proba_threshold = min_proba_threshold + float(i)*(float(max_proba_threshold - min_proba_threshold)/float(n_tests))\n",
    "    n_unclassified_validation_images2 = sum(1 for label, prediction, proba in validation_labels_predictions_probas if proba < test_proba_threshold)\n",
    "    n_classified_validation_images2 = validation_images_pca2.shape[0] - n_unclassified_validation_images2\n",
    "    \n",
    "    n_classified_ratio = float(n_classified_validation_images2) / float(n_unclassified_validation_images2 + n_classified_validation_images2)\n",
    "    \n",
    "    X.append(test_proba_threshold)\n",
    "    Y.append(n_classified_ratio)\n",
    "    \n",
    "\n",
    "plt.plot(X, Y)\n",
    "plt.show()"
   ]
  },
  {
   "cell_type": "code",
   "execution_count": 223,
   "metadata": {
    "collapsed": true
   },
   "outputs": [],
   "source": [
    "proba_threshold = 0.7"
   ]
  },
  {
   "cell_type": "code",
   "execution_count": 224,
   "metadata": {
    "collapsed": false
   },
   "outputs": [],
   "source": [
    "validation_false_positive_rate2 = float(sum(1 for score in validation_false_positive_scores if score >= proba_threshold)) / float(validation_images_pca2.shape[0])\n",
    "\n",
    "n_unclassified_validation_images2 = sum(1 for label, prediction, proba in validation_labels_predictions_probas if proba < proba_threshold)\n",
    "n_classified_validation_images2 = validation_images_pca2.shape[0] - n_unclassified_validation_images2\n",
    "n_classified_ratio = float(n_classified_validation_images2) / float(n_unclassified_validation_images2 + n_classified_validation_images2)"
   ]
  },
  {
   "cell_type": "code",
   "execution_count": 225,
   "metadata": {
    "collapsed": false
   },
   "outputs": [
    {
     "name": "stdout",
     "output_type": "stream",
     "text": [
      "0.0007972362476747276\n"
     ]
    }
   ],
   "source": [
    "print(validation_false_positive_rate2)"
   ]
  },
  {
   "cell_type": "code",
   "execution_count": 226,
   "metadata": {
    "collapsed": false
   },
   "outputs": [
    {
     "name": "stdout",
     "output_type": "stream",
     "text": [
      "0.4873770927451501\n"
     ]
    }
   ],
   "source": [
    "print(n_classified_ratio)"
   ]
  },
  {
   "cell_type": "code",
   "execution_count": 227,
   "metadata": {
    "collapsed": true
   },
   "outputs": [],
   "source": [
    "n_unclassified_train_images2 = sum(1 for label, prediction, proba in train_labels_predictions_probas if proba < proba_threshold)\n",
    "n_classified_train_images2 = train_images_pca2.shape[0] - n_unclassified_train_images2\n",
    "\n",
    "n_unclassified_validation_images2 = sum(1 for label, prediction, proba in validation_labels_predictions_probas if proba < proba_threshold)\n",
    "n_classified_validation_images2 = validation_images_pca2.shape[0] - n_unclassified_validation_images2"
   ]
  },
  {
   "cell_type": "code",
   "execution_count": 228,
   "metadata": {
    "collapsed": false
   },
   "outputs": [
    {
     "name": "stdout",
     "output_type": "stream",
     "text": [
      "36697\n"
     ]
    }
   ],
   "source": [
    "print(n_unclassified_train_images1)"
   ]
  },
  {
   "cell_type": "code",
   "execution_count": 229,
   "metadata": {
    "collapsed": false
   },
   "outputs": [
    {
     "name": "stdout",
     "output_type": "stream",
     "text": [
      "18303\n"
     ]
    }
   ],
   "source": [
    "print(n_classified_train_images1)"
   ]
  },
  {
   "cell_type": "code",
   "execution_count": 230,
   "metadata": {
    "collapsed": false
   },
   "outputs": [
    {
     "name": "stdout",
     "output_type": "stream",
     "text": [
      "1929\n"
     ]
    }
   ],
   "source": [
    "print(n_unclassified_validation_images1)"
   ]
  },
  {
   "cell_type": "code",
   "execution_count": 231,
   "metadata": {
    "collapsed": false
   },
   "outputs": [
    {
     "name": "stdout",
     "output_type": "stream",
     "text": [
      "1834\n"
     ]
    }
   ],
   "source": [
    "print(n_classified_validation_images1)"
   ]
  },
  {
   "cell_type": "code",
   "execution_count": null,
   "metadata": {
    "collapsed": true
   },
   "outputs": [],
   "source": [
    "unclassified_train_set_images2 = np.zeros((n_unclassified_train_images2, 784))\n",
    "unclassified_train_set_labels = []\n",
    "\n",
    "k = 0\n",
    "for i in range(0, train_set.images.shape[0]):\n",
    "    if train_labels_predictions_log_probas[i][2] < log_proba_threshold:\n",
    "        unclassified_train_set_images1[k, :] = train_set.images[i, :]\n",
    "        unclassified_train_set_labels.append(train_set.labels[i])\n",
    "        k += 1\n",
    "        \n",
    "        \n",
    "unclassified_validation_set_images1 = np.zeros((n_unclassified_validation_images1, 784))\n",
    "unclassified_validation_set_labels = []\n",
    "\n",
    "k = 0\n",
    "for i in range(0, validation_set.images.shape[0]):\n",
    "    if validation_labels_predictions_log_probas[i][2] < log_proba_threshold:\n",
    "        unclassified_validation_set_images1[k, :] = validation_set.images[i, :]\n",
    "        unclassified_validation_set_labels.append(validation_set.labels[i])\n",
    "        k += 1"
   ]
  }
 ],
 "metadata": {
  "kernelspec": {
   "display_name": "Python 3",
   "language": "python",
   "name": "python3"
  },
  "language_info": {
   "codemirror_mode": {
    "name": "ipython",
    "version": 3
   },
   "file_extension": ".py",
   "mimetype": "text/x-python",
   "name": "python",
   "nbconvert_exporter": "python",
   "pygments_lexer": "ipython3",
   "version": "3.5.0"
  },
  "widgets": {
   "state": {},
   "version": "1.1.2"
  }
 },
 "nbformat": 4,
 "nbformat_minor": 2
}
